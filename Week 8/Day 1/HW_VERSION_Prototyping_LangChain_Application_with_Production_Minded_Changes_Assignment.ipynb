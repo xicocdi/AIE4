{
  "cells": [
    {
      "cell_type": "markdown",
      "metadata": {
        "id": "8ZsP-j7w3zcL"
      },
      "source": [
        "# Prototyping LangChain Application with Production Minded Changes\n",
        "\n",
        "For our first breakout room we'll be exploring how to set-up a LangChain LCEL chain in a way that takes advantage of all of the amazing out of the box production ready features it offers.\n",
        "\n",
        "We'll also explore `Caching` and what makes it an invaluable tool when transitioning to production environments.\n"
      ]
    },
    {
      "cell_type": "markdown",
      "metadata": {
        "id": "PpeN9ND0HKa0"
      },
      "source": [
        "## Task 1: Dependencies and Set-Up\n",
        "\n",
        "Let's get everything we need - we're going to use very specific versioning today to try to mitigate potential env. issues!\n",
        "\n",
        "> NOTE: Dependency issues are a large portion of what you're going to be tackling as you integrate new technology into your work - please keep in mind that one of the things you should be passively learning throughout this course is ways to mitigate dependency issues."
      ]
    },
    {
      "cell_type": "code",
      "execution_count": null,
      "metadata": {
        "id": "0P4IJUQF27jW"
      },
      "outputs": [],
      "source": [
        "!pip install -qU langchain_openai==0.2.0 langchain_community==0.3.0 langchain==0.3.0 pymupdf==1.24.10 qdrant-client==1.11.2 langchain_qdrant==0.1.4 langsmith==0.1.121"
      ]
    },
    {
      "cell_type": "markdown",
      "metadata": {},
      "source": []
    },
    {
      "cell_type": "markdown",
      "metadata": {
        "id": "qYcWLzrmHgDb"
      },
      "source": [
        "We'll need an OpenAI API Key:"
      ]
    },
    {
      "cell_type": "code",
      "execution_count": null,
      "metadata": {
        "colab": {
          "base_uri": "https://localhost:8080/"
        },
        "id": "GZ8qfrFh_6ed",
        "outputId": "2260d693-1ea2-4e01-aaa7-e8e4a1622768"
      },
      "outputs": [
        {
          "name": "stdout",
          "output_type": "stream",
          "text": [
            "OpenAI API Key:··········\n"
          ]
        }
      ],
      "source": [
        "import os\n",
        "import getpass\n",
        "\n",
        "os.environ[\"OPENAI_API_KEY\"] = getpass.getpass(\"OpenAI API Key:\")"
      ]
    },
    {
      "cell_type": "markdown",
      "metadata": {
        "id": "piz2DUDuHiSO"
      },
      "source": [
        "And the LangSmith set-up:"
      ]
    },
    {
      "cell_type": "code",
      "execution_count": null,
      "metadata": {
        "colab": {
          "base_uri": "https://localhost:8080/"
        },
        "id": "wLZX5zowCh-q",
        "outputId": "d95302f0-3b8b-4758-c427-d9a8294d5751"
      },
      "outputs": [
        {
          "name": "stdout",
          "output_type": "stream",
          "text": [
            "LangChain API Key:··········\n"
          ]
        }
      ],
      "source": [
        "import uuid\n",
        "\n",
        "os.environ[\"LANGCHAIN_PROJECT\"] = f\"AIM Week 8 Assignment 1 - {uuid.uuid4().hex[0:8]}\"\n",
        "os.environ[\"LANGCHAIN_TRACING_V2\"] = \"true\"\n",
        "os.environ[\"LANGCHAIN_ENDPOINT\"] = \"https://api.smith.langchain.com\"\n",
        "os.environ[\"LANGCHAIN_API_KEY\"] = getpass.getpass(\"LangChain API Key:\")"
      ]
    },
    {
      "cell_type": "markdown",
      "metadata": {
        "id": "WmwNTziKHrQm"
      },
      "source": [
        "Let's verify our project so we can leverage it in LangSmith later."
      ]
    },
    {
      "cell_type": "code",
      "execution_count": null,
      "metadata": {
        "colab": {
          "base_uri": "https://localhost:8080/"
        },
        "id": "T6GZmkVkFcHq",
        "outputId": "f305f185-0f31-4cc8-8848-eb2be3a1e0dd"
      },
      "outputs": [
        {
          "name": "stdout",
          "output_type": "stream",
          "text": [
            "AIM Week 8 Assignment 1 - c2db5322\n"
          ]
        }
      ],
      "source": [
        "print(os.environ[\"LANGCHAIN_PROJECT\"])"
      ]
    },
    {
      "cell_type": "markdown",
      "metadata": {
        "id": "un_ppfaAHv1J"
      },
      "source": [
        "## Task 2: Setting up RAG With Production in Mind\n",
        "\n",
        "This is the most crucial step in the process - in order to take advantage of:\n",
        "\n",
        "- Asyncronous requests\n",
        "- Parallel Execution in Chains\n",
        "- And more...\n",
        "\n",
        "You must...use LCEL. These benefits are provided out of the box and largely optimized behind the scenes."
      ]
    },
    {
      "cell_type": "markdown",
      "metadata": {
        "id": "vGi-db23JMAL"
      },
      "source": [
        "### Building our RAG Components: Retriever\n",
        "\n",
        "We'll start by building some familiar components - and showcase how they automatically scale to production features."
      ]
    },
    {
      "cell_type": "markdown",
      "metadata": {
        "id": "zvbT3HSDJemE"
      },
      "source": [
        "Please upload a PDF file to use in this example!"
      ]
    },
    {
      "cell_type": "code",
      "execution_count": null,
      "metadata": {
        "colab": {
          "base_uri": "https://localhost:8080/",
          "height": 73
        },
        "id": "dvYczNeY91Hn",
        "outputId": "2318e560-31df-4ca3-8e68-cd100f27b1a0"
      },
      "outputs": [
        {
          "data": {
            "text/html": [
              "\n",
              "     <input type=\"file\" id=\"files-8f54686d-f2e3-493d-b46b-b748c0149eed\" name=\"files[]\" multiple disabled\n",
              "        style=\"border:none\" />\n",
              "     <output id=\"result-8f54686d-f2e3-493d-b46b-b748c0149eed\">\n",
              "      Upload widget is only available when the cell has been executed in the\n",
              "      current browser session. Please rerun this cell to enable.\n",
              "      </output>\n",
              "      <script>// Copyright 2017 Google LLC\n",
              "//\n",
              "// Licensed under the Apache License, Version 2.0 (the \"License\");\n",
              "// you may not use this file except in compliance with the License.\n",
              "// You may obtain a copy of the License at\n",
              "//\n",
              "//      http://www.apache.org/licenses/LICENSE-2.0\n",
              "//\n",
              "// Unless required by applicable law or agreed to in writing, software\n",
              "// distributed under the License is distributed on an \"AS IS\" BASIS,\n",
              "// WITHOUT WARRANTIES OR CONDITIONS OF ANY KIND, either express or implied.\n",
              "// See the License for the specific language governing permissions and\n",
              "// limitations under the License.\n",
              "\n",
              "/**\n",
              " * @fileoverview Helpers for google.colab Python module.\n",
              " */\n",
              "(function(scope) {\n",
              "function span(text, styleAttributes = {}) {\n",
              "  const element = document.createElement('span');\n",
              "  element.textContent = text;\n",
              "  for (const key of Object.keys(styleAttributes)) {\n",
              "    element.style[key] = styleAttributes[key];\n",
              "  }\n",
              "  return element;\n",
              "}\n",
              "\n",
              "// Max number of bytes which will be uploaded at a time.\n",
              "const MAX_PAYLOAD_SIZE = 100 * 1024;\n",
              "\n",
              "function _uploadFiles(inputId, outputId) {\n",
              "  const steps = uploadFilesStep(inputId, outputId);\n",
              "  const outputElement = document.getElementById(outputId);\n",
              "  // Cache steps on the outputElement to make it available for the next call\n",
              "  // to uploadFilesContinue from Python.\n",
              "  outputElement.steps = steps;\n",
              "\n",
              "  return _uploadFilesContinue(outputId);\n",
              "}\n",
              "\n",
              "// This is roughly an async generator (not supported in the browser yet),\n",
              "// where there are multiple asynchronous steps and the Python side is going\n",
              "// to poll for completion of each step.\n",
              "// This uses a Promise to block the python side on completion of each step,\n",
              "// then passes the result of the previous step as the input to the next step.\n",
              "function _uploadFilesContinue(outputId) {\n",
              "  const outputElement = document.getElementById(outputId);\n",
              "  const steps = outputElement.steps;\n",
              "\n",
              "  const next = steps.next(outputElement.lastPromiseValue);\n",
              "  return Promise.resolve(next.value.promise).then((value) => {\n",
              "    // Cache the last promise value to make it available to the next\n",
              "    // step of the generator.\n",
              "    outputElement.lastPromiseValue = value;\n",
              "    return next.value.response;\n",
              "  });\n",
              "}\n",
              "\n",
              "/**\n",
              " * Generator function which is called between each async step of the upload\n",
              " * process.\n",
              " * @param {string} inputId Element ID of the input file picker element.\n",
              " * @param {string} outputId Element ID of the output display.\n",
              " * @return {!Iterable<!Object>} Iterable of next steps.\n",
              " */\n",
              "function* uploadFilesStep(inputId, outputId) {\n",
              "  const inputElement = document.getElementById(inputId);\n",
              "  inputElement.disabled = false;\n",
              "\n",
              "  const outputElement = document.getElementById(outputId);\n",
              "  outputElement.innerHTML = '';\n",
              "\n",
              "  const pickedPromise = new Promise((resolve) => {\n",
              "    inputElement.addEventListener('change', (e) => {\n",
              "      resolve(e.target.files);\n",
              "    });\n",
              "  });\n",
              "\n",
              "  const cancel = document.createElement('button');\n",
              "  inputElement.parentElement.appendChild(cancel);\n",
              "  cancel.textContent = 'Cancel upload';\n",
              "  const cancelPromise = new Promise((resolve) => {\n",
              "    cancel.onclick = () => {\n",
              "      resolve(null);\n",
              "    };\n",
              "  });\n",
              "\n",
              "  // Wait for the user to pick the files.\n",
              "  const files = yield {\n",
              "    promise: Promise.race([pickedPromise, cancelPromise]),\n",
              "    response: {\n",
              "      action: 'starting',\n",
              "    }\n",
              "  };\n",
              "\n",
              "  cancel.remove();\n",
              "\n",
              "  // Disable the input element since further picks are not allowed.\n",
              "  inputElement.disabled = true;\n",
              "\n",
              "  if (!files) {\n",
              "    return {\n",
              "      response: {\n",
              "        action: 'complete',\n",
              "      }\n",
              "    };\n",
              "  }\n",
              "\n",
              "  for (const file of files) {\n",
              "    const li = document.createElement('li');\n",
              "    li.append(span(file.name, {fontWeight: 'bold'}));\n",
              "    li.append(span(\n",
              "        `(${file.type || 'n/a'}) - ${file.size} bytes, ` +\n",
              "        `last modified: ${\n",
              "            file.lastModifiedDate ? file.lastModifiedDate.toLocaleDateString() :\n",
              "                                    'n/a'} - `));\n",
              "    const percent = span('0% done');\n",
              "    li.appendChild(percent);\n",
              "\n",
              "    outputElement.appendChild(li);\n",
              "\n",
              "    const fileDataPromise = new Promise((resolve) => {\n",
              "      const reader = new FileReader();\n",
              "      reader.onload = (e) => {\n",
              "        resolve(e.target.result);\n",
              "      };\n",
              "      reader.readAsArrayBuffer(file);\n",
              "    });\n",
              "    // Wait for the data to be ready.\n",
              "    let fileData = yield {\n",
              "      promise: fileDataPromise,\n",
              "      response: {\n",
              "        action: 'continue',\n",
              "      }\n",
              "    };\n",
              "\n",
              "    // Use a chunked sending to avoid message size limits. See b/62115660.\n",
              "    let position = 0;\n",
              "    do {\n",
              "      const length = Math.min(fileData.byteLength - position, MAX_PAYLOAD_SIZE);\n",
              "      const chunk = new Uint8Array(fileData, position, length);\n",
              "      position += length;\n",
              "\n",
              "      const base64 = btoa(String.fromCharCode.apply(null, chunk));\n",
              "      yield {\n",
              "        response: {\n",
              "          action: 'append',\n",
              "          file: file.name,\n",
              "          data: base64,\n",
              "        },\n",
              "      };\n",
              "\n",
              "      let percentDone = fileData.byteLength === 0 ?\n",
              "          100 :\n",
              "          Math.round((position / fileData.byteLength) * 100);\n",
              "      percent.textContent = `${percentDone}% done`;\n",
              "\n",
              "    } while (position < fileData.byteLength);\n",
              "  }\n",
              "\n",
              "  // All done.\n",
              "  yield {\n",
              "    response: {\n",
              "      action: 'complete',\n",
              "    }\n",
              "  };\n",
              "}\n",
              "\n",
              "scope.google = scope.google || {};\n",
              "scope.google.colab = scope.google.colab || {};\n",
              "scope.google.colab._files = {\n",
              "  _uploadFiles,\n",
              "  _uploadFilesContinue,\n",
              "};\n",
              "})(self);\n",
              "</script> "
            ],
            "text/plain": [
              "<IPython.core.display.HTML object>"
            ]
          },
          "metadata": {},
          "output_type": "display_data"
        },
        {
          "name": "stdout",
          "output_type": "stream",
          "text": [
            "Saving Forrest_Gump.pdf to Forrest_Gump.pdf\n"
          ]
        }
      ],
      "source": [
        "from google.colab import files\n",
        "uploaded = files.upload()"
      ]
    },
    {
      "cell_type": "code",
      "execution_count": null,
      "metadata": {
        "colab": {
          "base_uri": "https://localhost:8080/",
          "height": 35
        },
        "id": "NtwoVUbaJlbW",
        "outputId": "7a706085-206d-4b64-a3c7-315833f28841"
      },
      "outputs": [
        {
          "data": {
            "application/vnd.google.colaboratory.intrinsic+json": {
              "type": "string"
            },
            "text/plain": [
              "'Forrest_Gump.pdf'"
            ]
          },
          "execution_count": 7,
          "metadata": {},
          "output_type": "execute_result"
        }
      ],
      "source": [
        "file_path = list(uploaded.keys())[0]\n",
        "file_path"
      ]
    },
    {
      "cell_type": "markdown",
      "metadata": {
        "id": "kucGy3f0Jhdi"
      },
      "source": [
        "We'll define our chunking strategy."
      ]
    },
    {
      "cell_type": "code",
      "execution_count": null,
      "metadata": {
        "id": "G-DNvNFd8je5"
      },
      "outputs": [],
      "source": [
        "from langchain_text_splitters import RecursiveCharacterTextSplitter\n",
        "\n",
        "text_splitter = RecursiveCharacterTextSplitter(chunk_size=1000, chunk_overlap=100)"
      ]
    },
    {
      "cell_type": "markdown",
      "metadata": {
        "id": "3_zRRNcLKCZh"
      },
      "source": [
        "We'll chunk our uploaded PDF file."
      ]
    },
    {
      "cell_type": "code",
      "execution_count": null,
      "metadata": {
        "id": "KOh6w9ud-ff6"
      },
      "outputs": [],
      "source": [
        "from langchain_community.document_loaders import PyMuPDFLoader\n",
        "\n",
        "Loader = PyMuPDFLoader\n",
        "loader = Loader(file_path)\n",
        "documents = loader.load()\n",
        "docs = text_splitter.split_documents(documents)\n",
        "for i, doc in enumerate(docs):\n",
        "    doc.metadata[\"source\"] = f\"source_{i}\""
      ]
    },
    {
      "cell_type": "markdown",
      "metadata": {
        "id": "U4XLeqJMKGdQ"
      },
      "source": [
        "#### QDrant Vector Database - Cache Backed Embeddings\n",
        "\n",
        "The process of embedding is typically a very time consuming one - we must, for ever single vector in our VDB as well as query:\n",
        "\n",
        "1. Send the text to an API endpoint (self-hosted, OpenAI, etc)\n",
        "2. Wait for processing\n",
        "3. Receive response\n",
        "\n",
        "This process costs time, and money - and occurs *every single time a document gets converted into a vector representation*.\n",
        "\n",
        "Instead, what if we:\n",
        "\n",
        "1. Set up a cache that can hold our vectors and embeddings (similar to, or in some cases literally a vector database)\n",
        "2. Send the text to an API endpoint (self-hosted, OpenAI, etc)\n",
        "3. Check the cache to see if we've already converted this text before.\n",
        "  - If we have: Return the vector representation\n",
        "  - Else: Wait for processing and proceed\n",
        "4. Store the text that was converted alongside its vector representation in a cache of some kind.\n",
        "5. Return the vector representation\n",
        "\n",
        "Notice that we can shortcut some instances of \"Wait for processing and proceed\".\n",
        "\n",
        "Let's see how this is implemented in the code."
      ]
    },
    {
      "cell_type": "code",
      "execution_count": null,
      "metadata": {
        "id": "dzPUTCua98b2"
      },
      "outputs": [],
      "source": [
        "from qdrant_client import QdrantClient\n",
        "from qdrant_client.http.models import Distance, VectorParams\n",
        "from langchain_openai.embeddings import OpenAIEmbeddings\n",
        "from langchain.storage import LocalFileStore\n",
        "from langchain_qdrant import QdrantVectorStore\n",
        "from langchain.embeddings import CacheBackedEmbeddings\n",
        "\n",
        "# Typical Embedding Model\n",
        "core_embeddings = OpenAIEmbeddings(model=\"text-embedding-3-small\")\n",
        "\n",
        "# Typical QDrant Client Set-up\n",
        "collection_name = f\"pdf_to_parse_{uuid.uuid4()}\"\n",
        "client = QdrantClient(\":memory:\")\n",
        "client.create_collection(\n",
        "    collection_name=collection_name,\n",
        "    vectors_config=VectorParams(size=1536, distance=Distance.COSINE),\n",
        ")\n",
        "\n",
        "# Adding cache!\n",
        "store = LocalFileStore(\"./cache/\")\n",
        "cached_embedder = CacheBackedEmbeddings.from_bytes_store(\n",
        "    core_embeddings, store, namespace=core_embeddings.model\n",
        ")\n",
        "\n",
        "# Typical QDrant Vector Store Set-up\n",
        "vectorstore = QdrantVectorStore(\n",
        "    client=client,\n",
        "    collection_name=collection_name,\n",
        "    embedding=cached_embedder)\n",
        "vectorstore.add_documents(docs)\n",
        "retriever = vectorstore.as_retriever(search_type=\"mmr\", search_kwargs={\"k\": 3})"
      ]
    },
    {
      "cell_type": "markdown",
      "metadata": {
        "id": "QVZGvmNYLomp"
      },
      "source": [
        "##### ❓ Question #1:\n",
        "\n",
        "What are some limitations you can see with this approach? When is this most/least useful. Discuss with your group!\n",
        "\n",
        "> NOTE: There is no single correct answer here!"
      ]
    },
    {
      "cell_type": "markdown",
      "metadata": {
        "id": "vZAOhyb3L9iD"
      },
      "source": [
        "##### 🏗️ Activity #1:\n",
        "\n",
        "Create a simple experiment that tests the cache-backed embeddings."
      ]
    },
    {
      "cell_type": "code",
      "execution_count": null,
      "metadata": {
        "colab": {
          "base_uri": "https://localhost:8080/"
        },
        "id": "M_Mekif6MDqe",
        "outputId": "3ac35fc7-a6c5-4a45-a775-9674acb78c3f"
      },
      "outputs": [
        {
          "data": {
            "text/plain": [
              "[Document(metadata={'source': 'source_72', 'file_path': 'Forrest_Gump.pdf', 'page': 48, 'total_pages': 147, 'format': 'PDF 1.6', 'title': '', 'author': '', 'subject': '', 'keywords': '', 'creator': '', 'producer': 'pdfjs v2.4.7 (github.com/rkusa/pdfjs)', 'creationDate': \"D:20240818073829-07'00'\", 'modDate': '', 'trapped': '', '_id': '9c9ec86db8d9486cb1bf2f1317a74701', '_collection_name': 'pdf_to_parse_6a6b97b0-7690-443a-bac8-82f9820ba720'}, page_content='48.\\nFORREST (V.O.)\\nNighttime in the Army is a lovely\\ntime.\\nForrest lies in his bunk and looks up.\\nFORREST (V.O.)\\nWe\\'d lay there in our bunks, and \\nI\\'d\\nmiss my momma. And I\\'d miss Jenny.\\nA young private tosses a Playboy magazine onto Forrest.\\nYOUNG PRIVATE\\nHey, Gump. Get a load of the tits \\non\\nher!\\nForrest pick up the magazine and turns the page, revealing\\nJenny as she poses with a school sweater on, and that\\'s all.\\nThe pictorial is titled: \"Girls of the South.\" Forrest looks\\nup with shock. He cranes his head up for a closer look.\\nFORREST (V.O.)\\nTurns out, Jenny had gotten into\\nsome trouble over... some photos of\\nher in her college sweater. And she\\nwas thrown out of school.\\nSONG\\n\"My baby does the hanky-panky...\"\\nINT. NASHVILLE/NIGHT CLUB - NIGHT (1966)\\n60\\n60\\nForrest, in his army uniform, steps into the foyer of the\\nclub.\\nFORREST (V.O.)\\nBut that wasn\\'t a bad thing. \\nBecause\\na man who owns a theater in \\nMemphis,\\nTennessee, saw those photo and \\noffered\\nJenny a job singing in a show. The'),\n",
              " Document(metadata={'source': 'source_171', 'file_path': 'Forrest_Gump.pdf', 'page': 121, 'total_pages': 147, 'format': 'PDF 1.6', 'title': '', 'author': '', 'subject': '', 'keywords': '', 'creator': '', 'producer': 'pdfjs v2.4.7 (github.com/rkusa/pdfjs)', 'creationDate': \"D:20240818073829-07'00'\", 'modDate': '', 'trapped': '', '_id': '185c17a10360412e858a6a7cfa9a992c', '_collection_name': 'pdf_to_parse_6a6b97b0-7690-443a-bac8-82f9820ba720'}, page_content=\"Forrest knees down next to her.\\nFORREST (V.O.)\\nSometimes I guess there just aren't\\nenough rocks.\\nEXT. OLD OAK TREE - DAY\\n150\\n150\\nJenny and Forrest sit on a limb together.\"),\n",
              " Document(metadata={'source': 'source_174', 'file_path': 'Forrest_Gump.pdf', 'page': 124, 'total_pages': 147, 'format': 'PDF 1.6', 'title': '', 'author': '', 'subject': '', 'keywords': '', 'creator': '', 'producer': 'pdfjs v2.4.7 (github.com/rkusa/pdfjs)', 'creationDate': \"D:20240818073829-07'00'\", 'modDate': '', 'trapped': '', '_id': 'fa1e8198e8194815a92ccee3b4df45f8', '_collection_name': 'pdf_to_parse_6a6b97b0-7690-443a-bac8-82f9820ba720'}, page_content=\"124.\\nJENNY\\nYou would, Forrest.\\nFORREST\\nBut you won't marry me.\\nJENNY\\nYou don't want to marry me.\\nFORREST\\nWhy don't you love me, Jenny? I'm\\nnot a smart man, but I know what\\nlove is.\\nForrest turns and walks toward the door. Jenny turns and\\nwalks up the stairs. Forrest stands outside.\\nEXT. GUMP HOUSE - NIGHT\\n156\\n156\\nThe house stands in the rain.\\nEXT. GUMP HOUSE - NIGHT\\n157\\n157\\nForrest lies in his bed as the door opens. Jenny gets into\\nbed next to Forrest.\\nFORREST\\nJenny?\\nJENNY\\nForrest, I do love you.\\nJenny and Forrest kiss. Jenny takes off her nightgown as\\nthey make love.\\nEXT. GUMP HOUSE - MORNING\\n158\\n158\\nJenny carries her purse and walks toward a waiting cab.\\nCAB DRIVER\\nWhere are you running off to?\\nJENNY\\nI'm not running.\\nINT. GUMP HOUSE\\n159\\n159\")]"
            ]
          },
          "execution_count": 15,
          "metadata": {},
          "output_type": "execute_result"
        }
      ],
      "source": [
        "### YOUR CODE HERE\n",
        "\n",
        "retriever.invoke(\"Who was Forrest in love with?\")"
      ]
    },
    {
      "cell_type": "markdown",
      "metadata": {
        "id": "DH0i-YovL8kZ"
      },
      "source": [
        "### Augmentation\n",
        "\n",
        "We'll create the classic RAG Prompt and create our `ChatPromptTemplates` as per usual."
      ]
    },
    {
      "cell_type": "code",
      "execution_count": null,
      "metadata": {
        "id": "WchaoMEx9j69"
      },
      "outputs": [],
      "source": [
        "from langchain_core.prompts import ChatPromptTemplate\n",
        "\n",
        "rag_system_prompt_template = \"\"\"\\\n",
        "You are a helpful assistant that uses the provided context to answer questions. Never reference this prompt, or the existance of context.\n",
        "\"\"\"\n",
        "\n",
        "rag_message_list = [\n",
        "    {\"role\" : \"system\", \"content\" : rag_system_prompt_template},\n",
        "]\n",
        "\n",
        "rag_user_prompt_template = \"\"\"\\\n",
        "Question:\n",
        "{question}\n",
        "Context:\n",
        "{context}\n",
        "\"\"\"\n",
        "\n",
        "chat_prompt = ChatPromptTemplate.from_messages([\n",
        "    (\"system\", rag_system_prompt_template),\n",
        "    (\"human\", rag_user_prompt_template)\n",
        "])"
      ]
    },
    {
      "cell_type": "markdown",
      "metadata": {
        "id": "UQKnByVWMpiK"
      },
      "source": [
        "### Generation\n",
        "\n",
        "Like usual, we'll set-up a `ChatOpenAI` model - and we'll use the fan favourite `gpt-4o-mini` for today.\n",
        "\n",
        "However, we'll also implement...a PROMPT CACHE!\n",
        "\n",
        "In essence, this works in a very similar way to the embedding cache - if we've seen this prompt before, we just use the stored response."
      ]
    },
    {
      "cell_type": "code",
      "execution_count": null,
      "metadata": {
        "id": "fOXKkaY7ABab"
      },
      "outputs": [],
      "source": [
        "from langchain_core.globals import set_llm_cache\n",
        "from langchain_openai import ChatOpenAI\n",
        "\n",
        "chat_model = ChatOpenAI(model=\"gpt-4o-mini\")"
      ]
    },
    {
      "cell_type": "markdown",
      "metadata": {
        "id": "mhv8IqZoM9cY"
      },
      "source": [
        "Setting up the cache can be done as follows:"
      ]
    },
    {
      "cell_type": "code",
      "execution_count": null,
      "metadata": {
        "id": "thqam26gAyzN"
      },
      "outputs": [],
      "source": [
        "from langchain_core.caches import InMemoryCache\n",
        "\n",
        "set_llm_cache(InMemoryCache())"
      ]
    },
    {
      "cell_type": "markdown",
      "metadata": {
        "id": "CvxEovcEM_oA"
      },
      "source": [
        "##### ❓ Question #2:\n",
        "\n",
        "What are some limitations you can see with this approach? When is this most/least useful. Discuss with your group!\n",
        "\n",
        "> NOTE: There is no single correct answer here!"
      ]
    },
    {
      "cell_type": "markdown",
      "metadata": {
        "id": "3iCMjVYKNEeV"
      },
      "source": [
        "##### 🏗️ Activity #2:\n",
        "\n",
        "Create a simple experiment that tests the cache-backed embeddings."
      ]
    },
    {
      "cell_type": "code",
      "execution_count": null,
      "metadata": {
        "id": "QT5GfmsHNFqP"
      },
      "outputs": [],
      "source": [
        "### YOUR CODE HERE"
      ]
    },
    {
      "cell_type": "code",
      "execution_count": null,
      "metadata": {
        "colab": {
          "base_uri": "https://localhost:8080/"
        },
        "id": "LFwPCWf7i6oS",
        "outputId": "6c5487e5-0b75-4617-af77-9e29ae9813ac"
      },
      "outputs": [
        {
          "data": {
            "text/plain": [
              "[Document(metadata={'source': 'source_72', 'file_path': 'Forrest_Gump.pdf', 'page': 48, 'total_pages': 147, 'format': 'PDF 1.6', 'title': '', 'author': '', 'subject': '', 'keywords': '', 'creator': '', 'producer': 'pdfjs v2.4.7 (github.com/rkusa/pdfjs)', 'creationDate': \"D:20240818073829-07'00'\", 'modDate': '', 'trapped': '', '_id': '9c9ec86db8d9486cb1bf2f1317a74701', '_collection_name': 'pdf_to_parse_6a6b97b0-7690-443a-bac8-82f9820ba720'}, page_content='48.\\nFORREST (V.O.)\\nNighttime in the Army is a lovely\\ntime.\\nForrest lies in his bunk and looks up.\\nFORREST (V.O.)\\nWe\\'d lay there in our bunks, and \\nI\\'d\\nmiss my momma. And I\\'d miss Jenny.\\nA young private tosses a Playboy magazine onto Forrest.\\nYOUNG PRIVATE\\nHey, Gump. Get a load of the tits \\non\\nher!\\nForrest pick up the magazine and turns the page, revealing\\nJenny as she poses with a school sweater on, and that\\'s all.\\nThe pictorial is titled: \"Girls of the South.\" Forrest looks\\nup with shock. He cranes his head up for a closer look.\\nFORREST (V.O.)\\nTurns out, Jenny had gotten into\\nsome trouble over... some photos of\\nher in her college sweater. And she\\nwas thrown out of school.\\nSONG\\n\"My baby does the hanky-panky...\"\\nINT. NASHVILLE/NIGHT CLUB - NIGHT (1966)\\n60\\n60\\nForrest, in his army uniform, steps into the foyer of the\\nclub.\\nFORREST (V.O.)\\nBut that wasn\\'t a bad thing. \\nBecause\\na man who owns a theater in \\nMemphis,\\nTennessee, saw those photo and \\noffered\\nJenny a job singing in a show. The'),\n",
              " Document(metadata={'source': 'source_171', 'file_path': 'Forrest_Gump.pdf', 'page': 121, 'total_pages': 147, 'format': 'PDF 1.6', 'title': '', 'author': '', 'subject': '', 'keywords': '', 'creator': '', 'producer': 'pdfjs v2.4.7 (github.com/rkusa/pdfjs)', 'creationDate': \"D:20240818073829-07'00'\", 'modDate': '', 'trapped': '', '_id': '185c17a10360412e858a6a7cfa9a992c', '_collection_name': 'pdf_to_parse_6a6b97b0-7690-443a-bac8-82f9820ba720'}, page_content=\"Forrest knees down next to her.\\nFORREST (V.O.)\\nSometimes I guess there just aren't\\nenough rocks.\\nEXT. OLD OAK TREE - DAY\\n150\\n150\\nJenny and Forrest sit on a limb together.\"),\n",
              " Document(metadata={'source': 'source_174', 'file_path': 'Forrest_Gump.pdf', 'page': 124, 'total_pages': 147, 'format': 'PDF 1.6', 'title': '', 'author': '', 'subject': '', 'keywords': '', 'creator': '', 'producer': 'pdfjs v2.4.7 (github.com/rkusa/pdfjs)', 'creationDate': \"D:20240818073829-07'00'\", 'modDate': '', 'trapped': '', '_id': 'fa1e8198e8194815a92ccee3b4df45f8', '_collection_name': 'pdf_to_parse_6a6b97b0-7690-443a-bac8-82f9820ba720'}, page_content=\"124.\\nJENNY\\nYou would, Forrest.\\nFORREST\\nBut you won't marry me.\\nJENNY\\nYou don't want to marry me.\\nFORREST\\nWhy don't you love me, Jenny? I'm\\nnot a smart man, but I know what\\nlove is.\\nForrest turns and walks toward the door. Jenny turns and\\nwalks up the stairs. Forrest stands outside.\\nEXT. GUMP HOUSE - NIGHT\\n156\\n156\\nThe house stands in the rain.\\nEXT. GUMP HOUSE - NIGHT\\n157\\n157\\nForrest lies in his bed as the door opens. Jenny gets into\\nbed next to Forrest.\\nFORREST\\nJenny?\\nJENNY\\nForrest, I do love you.\\nJenny and Forrest kiss. Jenny takes off her nightgown as\\nthey make love.\\nEXT. GUMP HOUSE - MORNING\\n158\\n158\\nJenny carries her purse and walks toward a waiting cab.\\nCAB DRIVER\\nWhere are you running off to?\\nJENNY\\nI'm not running.\\nINT. GUMP HOUSE\\n159\\n159\")]"
            ]
          },
          "execution_count": 19,
          "metadata": {},
          "output_type": "execute_result"
        }
      ],
      "source": [
        "retriever.invoke(\"Who was Forrest in love with?\")"
      ]
    },
    {
      "cell_type": "markdown",
      "metadata": {
        "id": "zyPnNWb9NH7W"
      },
      "source": [
        "## Task 3: RAG LCEL Chain\n",
        "\n",
        "We'll also set-up our typical RAG chain using LCEL.\n",
        "\n",
        "However, this time: We'll specifically call out that the `context` and `question` halves of the first \"link\" in the chain are executed *in parallel* by default!\n",
        "\n",
        "Thanks, LCEL!"
      ]
    },
    {
      "cell_type": "code",
      "execution_count": null,
      "metadata": {
        "id": "3JNvSsx_CEtI"
      },
      "outputs": [],
      "source": [
        "from operator import itemgetter\n",
        "from langchain_core.runnables.passthrough import RunnablePassthrough\n",
        "\n",
        "retrieval_augmented_qa_chain = (\n",
        "        {\"context\": itemgetter(\"question\") | retriever, \"question\": itemgetter(\"question\")}\n",
        "        | RunnablePassthrough.assign(context=itemgetter(\"context\"))\n",
        "        | chat_prompt | chat_model\n",
        "    )"
      ]
    },
    {
      "cell_type": "markdown",
      "metadata": {
        "id": "Sx--wVctNdGa"
      },
      "source": [
        "Let's test it out!"
      ]
    },
    {
      "cell_type": "code",
      "execution_count": null,
      "metadata": {
        "colab": {
          "base_uri": "https://localhost:8080/"
        },
        "id": "43uQegbnDQKP",
        "outputId": "b71497ad-a84f-40fe-c4ec-d9818f324ba6"
      },
      "outputs": [
        {
          "data": {
            "text/plain": [
              "AIMessage(content='The phrase \"life is like a box of chocolates\" suggests that life is full of surprises and uncertainties, much like a box of assorted chocolates where you don\\'t know what flavor you\\'re going to get until you take a bite. This metaphor highlights the unpredictability of life and the experiences that come with it, emphasizing that one must embrace the unknown and appreciate the variety of experiences that life offers.', additional_kwargs={'refusal': None}, response_metadata={'token_usage': {'completion_tokens': 77, 'prompt_tokens': 859, 'total_tokens': 936, 'completion_tokens_details': {'audio_tokens': None, 'reasoning_tokens': 0}, 'prompt_tokens_details': {'audio_tokens': None, 'cached_tokens': 0}}, 'model_name': 'gpt-4o-mini-2024-07-18', 'system_fingerprint': 'fp_f85bea6784', 'finish_reason': 'stop', 'logprobs': None}, id='run-bcb157b5-694b-440a-9ac3-ac43a891422e-0', usage_metadata={'input_tokens': 859, 'output_tokens': 77, 'total_tokens': 936})"
            ]
          },
          "execution_count": 21,
          "metadata": {},
          "output_type": "execute_result"
        }
      ],
      "source": [
        "retrieval_augmented_qa_chain.invoke({\"question\" : \"Why is life like a box of chocolates?\"})"
      ]
    },
    {
      "cell_type": "markdown",
      "metadata": {
        "id": "0tYAvHrJNecy"
      },
      "source": [
        "##### 🏗️ Activity #3:\n",
        "\n",
        "Show, through LangSmith, the different between a trace that is leveraging cache-backed embeddings and LLM calls - and one that isn't.\n",
        "\n",
        "Post screenshots in the notebook!"
      ]
    },
    {
      "cell_type": "code",
      "execution_count": null,
      "metadata": {
        "colab": {
          "base_uri": "https://localhost:8080/"
        },
        "id": "gstV-G59jYCv",
        "outputId": "dd965c82-4295-4a2b-d9f2-a6526eb55d11"
      },
      "outputs": [
        {
          "data": {
            "text/plain": [
              "AIMessage(content='The phrase \"life is like a box of chocolates\" suggests that life is full of surprises and uncertainties, much like a box of assorted chocolates where you don\\'t know what flavor you\\'re going to get until you take a bite. This metaphor highlights the unpredictability of life and the experiences that come with it, emphasizing that one must embrace the unknown and appreciate the variety of experiences that life offers.', additional_kwargs={'refusal': None}, response_metadata={'token_usage': {'completion_tokens': 77, 'prompt_tokens': 859, 'total_tokens': 936, 'completion_tokens_details': {'audio_tokens': None, 'reasoning_tokens': 0}, 'prompt_tokens_details': {'audio_tokens': None, 'cached_tokens': 0}}, 'model_name': 'gpt-4o-mini-2024-07-18', 'system_fingerprint': 'fp_f85bea6784', 'finish_reason': 'stop', 'logprobs': None}, id='run-bcb157b5-694b-440a-9ac3-ac43a891422e-0', usage_metadata={'input_tokens': 859, 'output_tokens': 77, 'total_tokens': 936})"
            ]
          },
          "execution_count": 22,
          "metadata": {},
          "output_type": "execute_result"
        }
      ],
      "source": [
        "retrieval_augmented_qa_chain.invoke({\"question\" : \"Why is life like a box of chocolates?\"})"
      ]
    },
    {
      "cell_type": "markdown",
      "metadata": {
        "id": "5A594Xt4NjEb"
      },
      "source": [
        "![Screenshot 2024-10-03 at 2.08.53 AM.png](data:image/png;base64,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)"
      ]
    },
    {
      "cell_type": "code",
      "execution_count": null,
      "metadata": {
        "id": "0__8ehnxNoS3"
      },
      "outputs": [],
      "source": []
    }
  ],
  "metadata": {
    "colab": {
      "provenance": []
    },
    "kernelspec": {
      "display_name": "Python 3",
      "name": "python3"
    },
    "language_info": {
      "codemirror_mode": {
        "name": "ipython",
        "version": 3
      },
      "file_extension": ".py",
      "mimetype": "text/x-python",
      "name": "python",
      "nbconvert_exporter": "python",
      "pygments_lexer": "ipython3",
      "version": "3.12.4"
    }
  },
  "nbformat": 4,
  "nbformat_minor": 0
}
