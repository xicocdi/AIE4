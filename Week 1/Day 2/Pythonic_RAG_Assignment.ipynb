{
  "cells": [
    {
      "cell_type": "markdown",
      "metadata": {
        "id": "lElF3o5PR6ys"
      },
      "source": [
        "# Your First RAG Application\n",
        "\n",
        "In this notebook, we'll walk you through each of the components that are involved in a simple RAG application.\n",
        "\n",
        "We won't be leveraging any fancy tools, just the OpenAI Python SDK, Numpy, and some classic Python.\n",
        "\n",
        "> NOTE: This was done with Python 3.11.4.\n",
        "\n",
        "> NOTE: There might be [compatibility issues](https://github.com/wandb/wandb/issues/7683) if you're on NVIDIA driver >552.44 As an interim solution - you can rollback your drivers to the 552.44."
      ]
    },
    {
      "cell_type": "markdown",
      "metadata": {
        "id": "5CtcL8P8R6yt"
      },
      "source": [
        "## Table of Contents:\n",
        "\n",
        "- Task 1: Imports and Utilities\n",
        "- Task 2: Documents\n",
        "- Task 3: Embeddings and Vectors\n",
        "- Task 4: Prompts\n",
        "- Task 5: Retrieval Augmented Generation\n",
        "  - 🚧 Activity #1: Augment RAG"
      ]
    },
    {
      "cell_type": "markdown",
      "metadata": {
        "id": "1Dz6GYilR6yt"
      },
      "source": [
        "Let's look at a rather complicated looking visual representation of a basic RAG application.\n",
        "\n",
        "<img src=\"https://i.imgur.com/vD8b016.png\" />"
      ]
    },
    {
      "cell_type": "markdown",
      "metadata": {
        "id": "PjmC0KFtR6yt"
      },
      "source": [
        "## Task 1: Imports and Utility\n",
        "\n",
        "We're just doing some imports and enabling `async` to work within the Jupyter environment here, nothing too crazy!"
      ]
    },
    {
      "cell_type": "code",
      "execution_count": null,
      "metadata": {
        "colab": {
          "base_uri": "https://localhost:8080/"
        },
        "id": "H7VEzqziR6yt",
        "outputId": "f873dd3b-55a0-4e00-ecf4-e2a0fe3af327"
      },
      "outputs": [],
      "source": [
        "!pip install -qU numpy matplotlib plotly pandas scipy scikit-learn openai python-dotenv"
      ]
    },
    {
      "cell_type": "code",
      "execution_count": 367,
      "metadata": {
        "id": "Z1dyrG4hR6yt"
      },
      "outputs": [],
      "source": [
        "from aimakerspace.text_utils import TextFileLoader, CharacterTextSplitter\n",
        "from aimakerspace.vectordatabase import VectorDatabase\n",
        "import asyncio"
      ]
    },
    {
      "cell_type": "code",
      "execution_count": 368,
      "metadata": {
        "id": "9OrFZRnER6yt"
      },
      "outputs": [],
      "source": [
        "import nest_asyncio\n",
        "nest_asyncio.apply()"
      ]
    },
    {
      "cell_type": "markdown",
      "metadata": {
        "id": "M0jGnpQsR6yu"
      },
      "source": [
        "## Task 2: Documents\n",
        "\n",
        "We'll be concerning ourselves with this part of the flow in the following section:\n",
        "\n",
        "<img src=\"https://i.imgur.com/jTm9gjk.png\" />"
      ]
    },
    {
      "cell_type": "markdown",
      "metadata": {
        "id": "-SFPWvRUR6yu"
      },
      "source": [
        "### Loading Source Documents\n",
        "\n",
        "So, first things first, we need some documents to work with.\n",
        "\n",
        "While we could work directly with the `.txt` files (or whatever file-types you wanted to extend this to) we can instead do some batch processing of those documents at the beginning in order to store them in a more machine compatible format.\n",
        "\n",
        "In this case, we're going to parse our text file into a single document in memory.\n",
        "\n",
        "Let's look at the relevant bits of the `TextFileLoader` class:\n",
        "\n",
        "```python\n",
        "def load_file(self):\n",
        "        with open(self.path, \"r\", encoding=self.encoding) as f:\n",
        "            self.documents.append(f.read())\n",
        "```\n",
        "\n",
        "We're simply loading the document using the built in `open` method, and storing that output in our `self.documents` list.\n"
      ]
    },
    {
      "cell_type": "code",
      "execution_count": 373,
      "metadata": {
        "colab": {
          "base_uri": "https://localhost:8080/"
        },
        "id": "Ia2sUEuGR6yu",
        "outputId": "84937ecc-c35f-4c4a-a4ab-9da72625954c"
      },
      "outputs": [
        {
          "data": {
            "text/plain": [
              "1"
            ]
          },
          "execution_count": 373,
          "metadata": {},
          "output_type": "execute_result"
        }
      ],
      "source": [
        "text_loader = TextFileLoader(\"data/PMarcaBlogs.txt\")\n",
        "documents = text_loader.load_documents()\n",
        "len(documents)"
      ]
    },
    {
      "cell_type": "code",
      "execution_count": 374,
      "metadata": {
        "colab": {
          "base_uri": "https://localhost:8080/"
        },
        "id": "bV-tj5WFR6yu",
        "outputId": "674eb315-1ff3-4597-bcf5-38ece0a812ac"
      },
      "outputs": [
        {
          "name": "stdout",
          "output_type": "stream",
          "text": [
            "\n",
            "The Pmarca Blog Archives\n",
            "(select posts from 2007-2009)\n",
            "Marc Andreessen\n",
            "copyright: Andreessen Horow\n"
          ]
        }
      ],
      "source": [
        "print(documents[0][:100])"
      ]
    },
    {
      "cell_type": "markdown",
      "metadata": {
        "id": "nHlTvCzYR6yu"
      },
      "source": [
        "### Splitting Text Into Chunks\n",
        "\n",
        "As we can see, there is one massive document.\n",
        "\n",
        "We'll want to chunk the document into smaller parts so it's easier to pass the most relevant snippets to the LLM.\n",
        "\n",
        "There is no fixed way to split/chunk documents - and you'll need to rely on some intuition as well as knowing your data *very* well in order to build the most robust system.\n",
        "\n",
        "For this toy example, we'll just split blindly on length.\n",
        "\n",
        ">There's an opportunity to clear up some terminology here, for this course we will be stick to the following:\n",
        ">\n",
        ">- \"source documents\" : The `.txt`, `.pdf`, `.html`, ..., files that make up the files and information we start with in its raw format\n",
        ">- \"document(s)\" : single (or more) text object(s)\n",
        ">- \"corpus\" : the combination of all of our documents"
      ]
    },
    {
      "cell_type": "markdown",
      "metadata": {
        "id": "2G6Voc0jR6yv"
      },
      "source": [
        "As you can imagine (though it's not specifically true in this toy example) the idea of splitting documents is to break them into managable sized chunks that retain the most relevant local context."
      ]
    },
    {
      "cell_type": "code",
      "execution_count": 375,
      "metadata": {
        "colab": {
          "base_uri": "https://localhost:8080/"
        },
        "id": "UMC4tsEmR6yv",
        "outputId": "08689c0b-57cd-4040-942a-8193e997f5cb"
      },
      "outputs": [
        {
          "data": {
            "text/plain": [
              "373"
            ]
          },
          "execution_count": 375,
          "metadata": {},
          "output_type": "execute_result"
        }
      ],
      "source": [
        "text_splitter = CharacterTextSplitter()\n",
        "split_documents = text_splitter.split_texts(documents)\n",
        "len(split_documents)"
      ]
    },
    {
      "cell_type": "code",
      "execution_count": 370,
      "metadata": {},
      "outputs": [],
      "source": [
        "from pprint import pprint"
      ]
    },
    {
      "cell_type": "markdown",
      "metadata": {
        "id": "W2wKT0WLR6yv"
      },
      "source": [
        "Let's take a look at some of the documents we've managed to split."
      ]
    },
    {
      "cell_type": "code",
      "execution_count": 376,
      "metadata": {
        "colab": {
          "base_uri": "https://localhost:8080/"
        },
        "id": "vcYMwWJoR6yv",
        "outputId": "20d69876-feca-4826-b4be-32915276987a"
      },
      "outputs": [
        {
          "name": "stdout",
          "output_type": "stream",
          "text": [
            "['\\ufeff\\n'\n",
            " 'The Pmarca Blog Archives\\n'\n",
            " '(select posts from 2007-2009)\\n'\n",
            " 'Marc Andreessen\\n'\n",
            " 'copyright: Andreessen Horowitz\\n'\n",
            " 'cover design: Jessica Hagy\\n'\n",
            " 'produced using: Pressbooks\\n'\n",
            " 'Contents\\n'\n",
            " 'THE PMARCA GUIDE TO STARTUPS\\n'\n",
            " 'Part 1: Why not to do a startup 2\\n'\n",
            " 'Part 2: When the VCs say \"no\" 10\\n'\n",
            " 'Part 3: \"But I don\\'t know any VCs!\" 18\\n'\n",
            " 'Part 4: The only thing that matters 25\\n'\n",
            " 'Part 5: The Moby Dick theory of big companies 33\\n'\n",
            " 'Part 6: How much funding is too little? Too much? 41\\n'\n",
            " \"Part 7: Why a startup's initial business plan doesn't\\n\"\n",
            " 'matter that much\\n'\n",
            " '49\\n'\n",
            " 'THE PMARCA GUIDE TO HIRING\\n'\n",
            " 'Part 8: Hiring, managing, promoting, and Dring\\n'\n",
            " 'executives\\n'\n",
            " '54\\n'\n",
            " 'Part 9: How to hire a professional CEO 68\\n'\n",
            " \"How to hire the best people you've ever worked\\n\"\n",
            " 'with\\n'\n",
            " '69\\n'\n",
            " 'THE PMARCA GUIDE TO BIG COMPANIES\\n'\n",
            " 'Part 1: Turnaround! 82\\n'\n",
            " 'Part 2: Retaining great people 86\\n'\n",
            " 'THE PMARCA GUIDE TO CAREER, PRODUCTIVITY,\\n'\n",
            " 'AND SOME OTHER THINGS\\n'\n",
            " 'Introduction 97\\n'\n",
            " 'Part 1: Opportunity 99\\n'\n",
            " 'Part 2: Skills and education 107\\n'\n",
            " 'Part 3: Where to go and why 120\\n'\n",
            " 'The Pmarca Guide to Personal Productivi']\n"
          ]
        }
      ],
      "source": [
        "some_documents = split_documents[0:1]\n",
        "pprint(some_documents)"
      ]
    },
    {
      "cell_type": "markdown",
      "metadata": {
        "id": "HOU-RFP_R6yv"
      },
      "source": [
        "## Task 3: Embeddings and Vectors\n",
        "\n",
        "Next, we have to convert our corpus into a \"machine readable\" format as we explored in the Embedding Primer notebook.\n",
        "\n",
        "Today, we're going to talk about the actual process of creating, and then storing, these embeddings, and how we can leverage that to intelligently add context to our queries."
      ]
    },
    {
      "cell_type": "markdown",
      "metadata": {},
      "source": [
        "### OpenAI API Key\n",
        "\n",
        "In order to access OpenAI's APIs, we'll need to provide our OpenAI API Key!\n",
        "\n",
        "You can work through the folder \"OpenAI API Key Setup\" for more information on this process if you don't already have an API Key!"
      ]
    },
    {
      "cell_type": "code",
      "execution_count": 377,
      "metadata": {},
      "outputs": [],
      "source": [
        "import os\n",
        "import openai\n",
        "from getpass import getpass\n",
        "\n",
        "openai.api_key = getpass(\"OpenAI API Key: \")\n",
        "os.environ[\"OPENAI_API_KEY\"] = openai.api_key"
      ]
    },
    {
      "cell_type": "markdown",
      "metadata": {},
      "source": [
        "### Vector Database\n",
        "\n",
        "Let's set up our vector database to hold all our documents and their embeddings!"
      ]
    },
    {
      "cell_type": "markdown",
      "metadata": {
        "id": "kDQrfAR1R6yv"
      },
      "source": [
        "While this is all baked into 1 call - we can look at some of the code that powers this process to get a better understanding:\n",
        "\n",
        "Let's look at our `VectorDatabase().__init__()`:\n",
        "\n",
        "```python\n",
        "def __init__(self, embedding_model: EmbeddingModel = None):\n",
        "        self.vectors = defaultdict(np.array)\n",
        "        self.embedding_model = embedding_model or EmbeddingModel()\n",
        "```\n",
        "\n",
        "As you can see - our vectors are merely stored as a dictionary of `np.array` objects.\n",
        "\n",
        "Secondly, our `VectorDatabase()` has a default `EmbeddingModel()` which is a wrapper for OpenAI's `text-embedding-3-small` model.\n",
        "\n",
        "> **Quick Info About `text-embedding-3-small`**:\n",
        "> - It has a context window of **8191** tokens\n",
        "> - It returns vectors with dimension **1536**"
      ]
    },
    {
      "cell_type": "markdown",
      "metadata": {
        "id": "L273pRdeR6yv"
      },
      "source": [
        "#### ❓Question #1:\n",
        "\n",
        "The default embedding dimension of `text-embedding-3-small` is 1536, as noted above. \n",
        "\n",
        "1. Is there any way to modify this dimension?\n",
        "2. What technique does OpenAI use to achieve this?\n",
        "\n",
        "> NOTE: Check out this [API documentation](https://platform.openai.com/docs/api-reference/embeddings/create) for the answer to question #1, and [this documentation](https://platform.openai.com/docs/guides/embeddings/use-cases) for an answer to question #2!"
      ]
    },
    {
      "cell_type": "markdown",
      "metadata": {},
      "source": [
        "### Answer\n",
        "\n",
        "1. Yes, through the optional, dimensions parameter.\n",
        "2. Through Matryoshka Representation Learning."
      ]
    },
    {
      "cell_type": "markdown",
      "metadata": {
        "id": "w5FZY7K3R6yv"
      },
      "source": [
        "We can call the `async_get_embeddings` method of our `EmbeddingModel()` on a list of `str` and receive a list of `float` back!\n",
        "\n",
        "```python\n",
        "async def async_get_embeddings(self, list_of_text: List[str]) -> List[List[float]]:\n",
        "        return await aget_embeddings(\n",
        "            list_of_text=list_of_text, engine=self.embeddings_model_name\n",
        "        )\n",
        "```"
      ]
    },
    {
      "cell_type": "markdown",
      "metadata": {
        "id": "cSct6X0aR6yv"
      },
      "source": [
        "We cast those to `np.array` when we build our `VectorDatabase()`:\n",
        "\n",
        "```python\n",
        "async def abuild_from_list(self, list_of_text: List[str]) -> \"VectorDatabase\":\n",
        "        embeddings = await self.embedding_model.async_get_embeddings(list_of_text)\n",
        "        for text, embedding in zip(list_of_text, embeddings):\n",
        "            self.insert(text, np.array(embedding))\n",
        "        return self\n",
        "```\n",
        "\n",
        "And that's all we need to do!"
      ]
    },
    {
      "cell_type": "code",
      "execution_count": 378,
      "metadata": {
        "id": "O4KoLbVDR6yv"
      },
      "outputs": [],
      "source": [
        "vector_db = VectorDatabase()\n",
        "vector_db = asyncio.run(vector_db.abuild_from_list(split_documents))"
      ]
    },
    {
      "cell_type": "markdown",
      "metadata": {
        "id": "SSZwaGvpR6yv"
      },
      "source": [
        "#### ❓Question #2:\n",
        "\n",
        "What are the benefits of using an `async` approach to collecting our embeddings?\n",
        "\n",
        "> NOTE: Determining the core difference between `async` and `sync` will be useful! If you get stuck - ask ChatGPT!"
      ]
    },
    {
      "cell_type": "markdown",
      "metadata": {},
      "source": [
        "### Answer\n",
        "\n",
        "It is more efficient and reduces latency. My understanding is it allows us to collect multiple embeddings aysnc instead of sequentially."
      ]
    },
    {
      "cell_type": "markdown",
      "metadata": {
        "id": "nRBdIt-xR6yw"
      },
      "source": [
        "So, to review what we've done so far in natural language:\n",
        "\n",
        "1. We load source documents\n",
        "2. We split those source documents into smaller chunks (documents)\n",
        "3. We send each of those documents to the `text-embedding-3-small` OpenAI API endpoint\n",
        "4. We store each of the text representations with the vector representations as keys/values in a dictionary"
      ]
    },
    {
      "cell_type": "markdown",
      "metadata": {
        "id": "4-vWANZyR6yw"
      },
      "source": [
        "### Semantic Similarity\n",
        "\n",
        "The next step is to be able to query our `VectorDatabase()` with a `str` and have it return to us vectors and text that is most relevant from our corpus.\n",
        "\n",
        "We're going to use the following process to achieve this in our toy example:\n",
        "\n",
        "1. We need to embed our query with the same `EmbeddingModel()` as we used to construct our `VectorDatabase()`\n",
        "2. We loop through every vector in our `VectorDatabase()` and use a distance measure to compare how related they are\n",
        "3. We return a list of the top `k` closest vectors, with their text representations\n",
        "\n",
        "There's some very heavy optimization that can be done at each of these steps - but let's just focus on the basic pattern in this notebook.\n",
        "\n",
        "> We are using [cosine similarity](https://www.engati.com/glossary/cosine-similarity) as a distance metric in this example - but there are many many distance metrics you could use - like [these](https://flavien-vidal.medium.com/similarity-distances-for-natural-language-processing-16f63cd5ba55)\n",
        "\n",
        "> We are using a rather inefficient way of calculating relative distance between the query vector and all other vectors - there are more advanced approaches that are much more efficient, like [ANN](https://towardsdatascience.com/comprehensive-guide-to-approximate-nearest-neighbors-algorithms-8b94f057d6b6)"
      ]
    },
    {
      "cell_type": "code",
      "execution_count": 25,
      "metadata": {
        "colab": {
          "base_uri": "https://localhost:8080/"
        },
        "id": "76d96uavR6yw",
        "outputId": "bbfccc31-20a2-41c7-c14d-46554a43ed2d"
      },
      "outputs": [
        {
          "data": {
            "text/plain": [
              "[('ordingly.\\nSeventh, when hiring the executive to run your former specialty, be\\ncareful you don’t hire someone weak on purpose.\\nThis sounds silly, but you wouldn’t believe how oaen it happens.\\nThe CEO who used to be a product manager who has a weak\\nproduct management executive. The CEO who used to be in\\nsales who has a weak sales executive. The CEO who used to be\\nin marketing who has a weak marketing executive.\\nI call this the “Michael Eisner Memorial Weak Executive Problem” — aaer the CEO of Disney who had previously been a brilliant TV network executive. When he bought ABC at Disney, it\\npromptly fell to fourth place. His response? “If I had an extra\\ntwo days a week, I could turn around ABC myself.” Well, guess\\nwhat, he didn’t have an extra two days a week.\\nA CEO — or a startup founder — oaen has a hard time letting\\ngo of the function that brought him to the party. The result: you\\nhire someone weak into the executive role for that function so\\nthat you can continue to be “the man” — cons',\n",
              "  np.float64(0.6539043027545367)),\n",
              " ('m. They have areas where they are truly deXcient in judgment or skill set. That’s just life. Almost nobody is brilliant\\nat everything. When hiring and when Hring executives, you\\nmust therefore focus on strength rather than lack of weakness. Everybody has severe weaknesses even if you can’t see\\nthem yet. When managing, it’s oaen useful to micromanage and\\nto provide remedial training around these weaknesses. Doing so\\nmay make the diWerence between an executive succeeding or\\nfailing.\\nFor example, you might have a brilliant engineering executive\\nwho generates excellent team loyalty, has terriXc product judgment and makes the trains run on time. This same executive\\nmay be very poor at relating to the other functions in the company. She may generate far more than her share of cross-functional conYicts, cut herself oW from critical information, and\\nsigniXcantly impede your ability to sell and market eWectively.\\nYour alternatives are:\\n(a) Macro-manage and give her an annual or quarterly object',\n",
              "  np.float64(0.503624783764878)),\n",
              " ('ed?\\nIn reality — as opposed to Marc’s warped view of reality — it will\\nbe extremely helpful for Marc [if he were actually the CEO,\\nwhich he is not] to meet with the new head of engineering daily\\nwhen she comes on board and review all of her thinking and\\ndecisions. This level of micromanagement will accelerate her\\ntraining and improve her long-term eWectiveness. It will make\\nher seem smarter to the rest of the organization which will build\\ncredibility and conXdence while she comes up to speed. Micromanaging new executives is generally a good idea for a limited\\nperiod of time.\\nHowever, that is not the only time that it makes sense to micro66 The Pmarca Blog Archives\\nmanage executives. It turns out that just about every executive\\nin the world has a few things that are seriously wrong with\\nthem. They have areas where they are truly deXcient in judgment or skill set. That’s just life. Almost nobody is brilliant\\nat everything. When hiring and when Hring executives, you\\nmust therefore focus o',\n",
              "  np.float64(0.4814861061791065))]"
            ]
          },
          "execution_count": 25,
          "metadata": {},
          "output_type": "execute_result"
        }
      ],
      "source": [
        "vector_db.search_by_text(\"What is the Michael Eisner Memorial Weak Executive Problem?\", k=3)"
      ]
    },
    {
      "cell_type": "markdown",
      "metadata": {
        "id": "TehsfIiKR6yw"
      },
      "source": [
        "## Task 4: Prompts\n",
        "\n",
        "In the following section, we'll be looking at the role of prompts - and how they help us to guide our application in the right direction.\n",
        "\n",
        "In this notebook, we're going to rely on the idea of \"zero-shot in-context learning\".\n",
        "\n",
        "This is a lot of words to say: \"We will ask it to perform our desired task in the prompt, and provide no examples.\""
      ]
    },
    {
      "cell_type": "markdown",
      "metadata": {
        "id": "yXpA0UveR6yw"
      },
      "source": [
        "### XYZRolePrompt\n",
        "\n",
        "Before we do that, let's stop and think a bit about how OpenAI's chat models work.\n",
        "\n",
        "We know they have roles - as is indicated in the following API [documentation](https://platform.openai.com/docs/api-reference/chat/create#chat/create-messages)\n",
        "\n",
        "There are three roles, and they function as follows (taken directly from [OpenAI](https://platform.openai.com/docs/guides/gpt/chat-completions-api)):\n",
        "\n",
        "- `{\"role\" : \"system\"}` : The system message helps set the behavior of the assistant. For example, you can modify the personality of the assistant or provide specific instructions about how it should behave throughout the conversation. However note that the system message is optional and the model’s behavior without a system message is likely to be similar to using a generic message such as \"You are a helpful assistant.\"\n",
        "- `{\"role\" : \"user\"}` : The user messages provide requests or comments for the assistant to respond to.\n",
        "- `{\"role\" : \"assistant\"}` : Assistant messages store previous assistant responses, but can also be written by you to give examples of desired behavior.\n",
        "\n",
        "The main idea is this:\n",
        "\n",
        "1. You start with a system message that outlines how the LLM should respond, what kind of behaviours you can expect from it, and more\n",
        "2. Then, you can provide a few examples in the form of \"assistant\"/\"user\" pairs\n",
        "3. Then, you prompt the model with the true \"user\" message.\n",
        "\n",
        "In this example, we'll be forgoing the 2nd step for simplicities sake."
      ]
    },
    {
      "cell_type": "markdown",
      "metadata": {
        "id": "gdZ2KWKSR6yw"
      },
      "source": [
        "#### Utility Functions\n",
        "\n",
        "You'll notice that we're using some utility functions from the `aimakerspace` module - let's take a peek at these and see what they're doing!"
      ]
    },
    {
      "cell_type": "markdown",
      "metadata": {
        "id": "GFbeJDDsR6yw"
      },
      "source": [
        "##### XYZRolePrompt"
      ]
    },
    {
      "cell_type": "markdown",
      "metadata": {
        "id": "5mojJSE3R6yw"
      },
      "source": [
        "Here we have our `system`, `user`, and `assistant` role prompts.\n",
        "\n",
        "Let's take a peek at what they look like:\n",
        "\n",
        "```python\n",
        "class BasePrompt:\n",
        "    def __init__(self, prompt):\n",
        "        \"\"\"\n",
        "        Initializes the BasePrompt object with a prompt template.\n",
        "\n",
        "        :param prompt: A string that can contain placeholders within curly braces\n",
        "        \"\"\"\n",
        "        self.prompt = prompt\n",
        "        self._pattern = re.compile(r\"\\{([^}]+)\\}\")\n",
        "\n",
        "    def format_prompt(self, **kwargs):\n",
        "        \"\"\"\n",
        "        Formats the prompt string using the keyword arguments provided.\n",
        "\n",
        "        :param kwargs: The values to substitute into the prompt string\n",
        "        :return: The formatted prompt string\n",
        "        \"\"\"\n",
        "        matches = self._pattern.findall(self.prompt)\n",
        "        return self.prompt.format(**{match: kwargs.get(match, \"\") for match in matches})\n",
        "\n",
        "    def get_input_variables(self):\n",
        "        \"\"\"\n",
        "        Gets the list of input variable names from the prompt string.\n",
        "\n",
        "        :return: List of input variable names\n",
        "        \"\"\"\n",
        "        return self._pattern.findall(self.prompt)\n",
        "```\n",
        "\n",
        "Then we have our `RolePrompt` which laser focuses us on the role pattern found in most API endpoints for LLMs.\n",
        "\n",
        "```python\n",
        "class RolePrompt(BasePrompt):\n",
        "    def __init__(self, prompt, role: str):\n",
        "        \"\"\"\n",
        "        Initializes the RolePrompt object with a prompt template and a role.\n",
        "\n",
        "        :param prompt: A string that can contain placeholders within curly braces\n",
        "        :param role: The role for the message ('system', 'user', or 'assistant')\n",
        "        \"\"\"\n",
        "        super().__init__(prompt)\n",
        "        self.role = role\n",
        "\n",
        "    def create_message(self, **kwargs):\n",
        "        \"\"\"\n",
        "        Creates a message dictionary with a role and a formatted message.\n",
        "\n",
        "        :param kwargs: The values to substitute into the prompt string\n",
        "        :return: Dictionary containing the role and the formatted message\n",
        "        \"\"\"\n",
        "        return {\"role\": self.role, \"content\": self.format_prompt(**kwargs)}\n",
        "```\n",
        "\n",
        "We'll look at how the `SystemRolePrompt` is constructed to get a better idea of how that extension works:\n",
        "\n",
        "```python\n",
        "class SystemRolePrompt(RolePrompt):\n",
        "    def __init__(self, prompt: str):\n",
        "        super().__init__(prompt, \"system\")\n",
        "```\n",
        "\n",
        "That pattern is repeated for our `UserRolePrompt` and our `AssistantRolePrompt` as well."
      ]
    },
    {
      "cell_type": "markdown",
      "metadata": {
        "id": "D361R6sMR6yw"
      },
      "source": [
        "##### ChatOpenAI"
      ]
    },
    {
      "cell_type": "markdown",
      "metadata": {
        "id": "HJVQ2Pm8R6yw"
      },
      "source": [
        "Next we have our model, which is converted to a format analagous to libraries like LangChain and LlamaIndex.\n",
        "\n",
        "Let's take a peek at how that is constructed:\n",
        "\n",
        "```python\n",
        "class ChatOpenAI:\n",
        "    def __init__(self, model_name: str = \"gpt-4o-mini\"):\n",
        "        self.model_name = model_name\n",
        "        self.openai_api_key = os.getenv(\"OPENAI_API_KEY\")\n",
        "        if self.openai_api_key is None:\n",
        "            raise ValueError(\"OPENAI_API_KEY is not set\")\n",
        "\n",
        "    def run(self, messages, text_only: bool = True):\n",
        "        if not isinstance(messages, list):\n",
        "            raise ValueError(\"messages must be a list\")\n",
        "\n",
        "        openai.api_key = self.openai_api_key\n",
        "        response = openai.ChatCompletion.create(\n",
        "            model=self.model_name, messages=messages\n",
        "        )\n",
        "\n",
        "        if text_only:\n",
        "            return response.choices[0].message.content\n",
        "\n",
        "        return response\n",
        "```"
      ]
    },
    {
      "cell_type": "markdown",
      "metadata": {
        "id": "qCU7FfhIR6yw"
      },
      "source": [
        "#### ❓ Question #3:\n",
        "\n",
        "When calling the OpenAI API - are there any ways we can achieve more reproducible outputs?\n",
        "\n",
        "> NOTE: Check out [this section](https://platform.openai.com/docs/guides/text-generation/) of the OpenAI documentation for the answer!"
      ]
    },
    {
      "cell_type": "markdown",
      "metadata": {},
      "source": [
        "### Answer\n",
        "\n",
        "For variability in the language and 'speaking' style of the response, setting the seed parameter or setting temperature to 0 can help achieve more reproducible outputs. As well as setting the top_p and top_k to high values could help. For more reproducible response formats, we can specify that directly in the prompt - aka \"please provide your response in the following JSON format: ...\""
      ]
    },
    {
      "cell_type": "markdown",
      "metadata": {
        "id": "c5wcjMLCR6yw"
      },
      "source": [
        "### Creating and Prompting OpenAI's `gpt-4o-mini`!\n",
        "\n",
        "Let's tie all these together and use it to prompt `gpt-4o-mini`!"
      ]
    },
    {
      "cell_type": "code",
      "execution_count": 386,
      "metadata": {
        "id": "WIfpIot7R6yw"
      },
      "outputs": [],
      "source": [
        "from aimakerspace.openai_utils.prompts import (\n",
        "    UserRolePrompt,\n",
        "    SystemRolePrompt,\n",
        "    AssistantRolePrompt,\n",
        ")\n",
        "\n",
        "from aimakerspace.openai_utils.chatmodel import ChatOpenAI\n",
        "\n",
        "chat_openai = ChatOpenAI()\n",
        "user_prompt_template = \"{content}\"\n",
        "user_role_prompt = UserRolePrompt(user_prompt_template)\n",
        "system_prompt_template = (\n",
        "    \"You are an expert in {expertise}, you always answer in a kind way.\"\n",
        ")\n",
        "system_role_prompt = SystemRolePrompt(system_prompt_template)\n",
        "\n",
        "messages = [\n",
        "    system_role_prompt.create_message(expertise=\"Python\"),\n",
        "    user_role_prompt.create_message(\n",
        "        content=\"What is the best way to write a loop?\"\n",
        "    ),\n",
        "]\n",
        "\n",
        "response = chat_openai.run(messages)"
      ]
    },
    {
      "cell_type": "code",
      "execution_count": 27,
      "metadata": {
        "colab": {
          "base_uri": "https://localhost:8080/"
        },
        "id": "dHo7lssNR6yw",
        "outputId": "1d3823fa-bb6b-45f6-ddba-b41686388324"
      },
      "outputs": [
        {
          "name": "stdout",
          "output_type": "stream",
          "text": [
            "The \"best\" way to write a loop in Python can depend on the specific use case and what you are trying to achieve. However, I can share some common practices and examples that make loops effective and easy to read. \n",
            "\n",
            "### Loop Basics\n",
            "\n",
            "1. **Using `for` Loops**:\n",
            "   The `for` loop is often used for iterating over a sequence (like a list, tuple, string, or range).\n",
            "\n",
            "   ```python\n",
            "   # Example: Iterating over a list\n",
            "   fruits = ['apple', 'banana', 'cherry']\n",
            "   for fruit in fruits:\n",
            "       print(fruit)\n",
            "   ```\n",
            "\n",
            "2. **Using `while` Loops**:\n",
            "   The `while` loop continues until a specified condition is false.\n",
            "\n",
            "   ```python\n",
            "   # Example: Counting down\n",
            "   countdown = 5\n",
            "   while countdown > 0:\n",
            "       print(countdown)\n",
            "       countdown -= 1\n",
            "   ```\n",
            "\n",
            "### Best Practices\n",
            "\n",
            "- **Keep it Readable**:\n",
            "  Use descriptive variable names and maintain proper indentation for clarity.\n",
            "\n",
            "- **Use `enumerate()` for Indexing**:\n",
            "  When you need both the index and value from a list, `enumerate()` is a great choice.\n",
            "\n",
            "  ```python\n",
            "  for index, fruit in enumerate(fruits):\n",
            "      print(f\"{index}: {fruit}\")\n",
            "  ```\n",
            "\n",
            "- **Use List Comprehensions**:\n",
            "  When creating a new list based on an existing iterable, list comprehensions can be more concise.\n",
            "\n",
            "  ```python\n",
            "  # Example: Squaring numbers\n",
            "  numbers = [1, 2, 3, 4]\n",
            "  squares = [x**2 for x in numbers]\n",
            "  ```\n",
            "\n",
            "- **Avoid Infinite Loops**:\n",
            "  Ensure that your while loop has a clear exit condition to prevent it from running indefinitely.\n",
            "\n",
            "- **Break and Continue Statements**:\n",
            "  Use `break` to exit a loop and `continue` to skip the current iteration if needed.\n",
            "\n",
            "  ```python\n",
            "  # Example: Break and continue\n",
            "  for number in range(10):\n",
            "      if number == 3:\n",
            "          continue  # Skip 3\n",
            "      if number == 8:\n",
            "          break  # Stop loop at 8\n",
            "      print(number)\n",
            "  ```\n",
            "\n",
            "### Conclusion\n",
            "\n",
            "Choose the type of loop that best fits your problem while keeping the code simple and clear. Each loop has its strengths, so understanding their usage will help you write better Python code. If you have a specific scenario in mind, feel free to share it, and I’d be happy to provide more tailored guidance!\n"
          ]
        }
      ],
      "source": [
        "print(response)"
      ]
    },
    {
      "cell_type": "markdown",
      "metadata": {
        "id": "r2nxxhB2R6yy"
      },
      "source": [
        "## Task 5: Retrieval Augmented Generation\n",
        "\n",
        "Now we can create a RAG prompt - which will help our system behave in a way that makes sense!\n",
        "\n",
        "There is much you could do here, many tweaks and improvements to be made!"
      ]
    },
    {
      "cell_type": "code",
      "execution_count": 209,
      "metadata": {
        "id": "D1hamzGaR6yy"
      },
      "outputs": [],
      "source": [
        "RAG_PROMPT_TEMPLATE = \"\"\" \\\n",
        "You have been provided with the Forrest Gump movie script. Your job is to use the provided context to answer the user's query. Users may have questions around particular characters, famous quotes, or explanations of certain scenes. Please provide answers to the user's questions if they pertain to the context.\n",
        "\n",
        "You may not answer the user's query unless there is specific context in the following text.\n",
        "\n",
        "If you do not know the answer, or cannot answer, please respond with \"I don't know\".\n",
        "\"\"\"\n",
        "\n",
        "rag_prompt = SystemRolePrompt(RAG_PROMPT_TEMPLATE)\n",
        "\n",
        "USER_PROMPT_TEMPLATE = \"\"\" \\\n",
        "Context:\n",
        "{context}\n",
        "\n",
        "User Query:\n",
        "{user_query}\n",
        "\"\"\"\n",
        "\n",
        "\n",
        "user_prompt = UserRolePrompt(USER_PROMPT_TEMPLATE)\n",
        "\n",
        "class RetrievalAugmentedQAPipeline:\n",
        "    def __init__(self, llm: ChatOpenAI(), vector_db_retriever: VectorDatabase) -> None:\n",
        "        self.llm = llm\n",
        "        self.vector_db_retriever = vector_db_retriever\n",
        "\n",
        "    def run_pipeline(self, user_query: str) -> str:\n",
        "        context_list = self.vector_db_retriever.search_by_text(user_query, k=4)\n",
        "\n",
        "        context_prompt = \"\"\n",
        "        for context in context_list:\n",
        "            context_prompt += context[0] + \"\\n\"\n",
        "\n",
        "        formatted_system_prompt = rag_prompt.create_message()\n",
        "\n",
        "        formatted_user_prompt = user_prompt.create_message(user_query=user_query, context=context_prompt)\n",
        "\n",
        "        return {\"response\" : self.llm.run([formatted_system_prompt, formatted_user_prompt]), \"context\" : context_list}"
      ]
    },
    {
      "cell_type": "markdown",
      "metadata": {
        "id": "zZIJI19uR6yz"
      },
      "source": [
        "#### ❓ Question #4:\n",
        "\n",
        "What prompting strategies could you use to make the LLM have a more thoughtful, detailed response?\n",
        "\n",
        "What is that strategy called?\n",
        "\n",
        "> NOTE: You can look through the Week 1 Day 1 \"Prompting OpenAI Like A Developer\" material for an answer to this question!"
      ]
    },
    {
      "cell_type": "markdown",
      "metadata": {},
      "source": [
        "### Answer\n",
        "\n",
        "Chain of thought prompting! Let's get the LLM to reason!"
      ]
    },
    {
      "cell_type": "code",
      "execution_count": 225,
      "metadata": {
        "id": "kqbE9fZ6R6yz"
      },
      "outputs": [],
      "source": [
        "retrieval_augmented_qa_pipeline = RetrievalAugmentedQAPipeline(\n",
        "    vector_db_retriever=vector_db,\n",
        "    llm=chat_openai\n",
        ")"
      ]
    },
    {
      "cell_type": "code",
      "execution_count": 227,
      "metadata": {
        "colab": {
          "base_uri": "https://localhost:8080/"
        },
        "id": "jAGhaCGOR6yz",
        "outputId": "e4fb3a1b-d2bc-4e18-ec31-dc0adf767163"
      },
      "outputs": [
        {
          "data": {
            "text/plain": [
              "{'response': 'Forrest Gump is a central character in the film, characterized by his innocence and simplicity. He is portrayed as someone who, despite facing challenges in life, has an impactful and remarkable journey. On page 136, he engages with Jenny, revealing that he is a father, as she explains that their son is named after him. Forrest expresses a sense of amazement and pride over his son, which highlights his nurturing side despite his previous struggles.',\n",
              " 'context': [('er Lt. Dan. The male\\\\nnurse sets Lt. Dan down on the rolling bed. Forrest looks up\\\\nat Lt. Dan as he is wheeled away. A soldier reads the names\\\\nfrom a pile of letters.\\\\nSOLDIER\", metadata={\\'source\\': \\'data/Forrest_Gump.pdf\\', \\'page\\': 71}), Document(page_content=\\'72 .\\\\nCooper, Larson, Webster, Gump, \\\\nGump...\\\\nFORREST\\\\nI\\\\\\'m Forrest Gump.\\\\nThe soldier hands Forrest a large pile of letters.\\\\n\"Undeliverable as addressed. No forwarding order on file.\"\\\\nJenny Curran Rural Route 2 Greenbow, Ala. 39902 Forrest looks\\\\ndown at the pile of letters.\\\\nINT. ARMY HOSPITAL/VIETNAM - DAY 79 79\\\\nA group of wounded soldiers hang out in the hospital,\\\\nrecuperating. Forrest sits and watches \"Gomer Pyle\" on the\\\\ntelevision.\\\\nSOLDIER\\\\nGump, how can you watch that stupid\\\\nshit? Turn it off!\\\\nANNOUNCER\\\\nFrom the D.M.Z. to the Delta, you\\\\nare tuned to the American Forces\\\\nVietnam Network. This is Channel 6,\\\\nSaigon.\\\\nForrest turns the TV off and he is hit on the back of the\\\\nhead by a ping-pong ball.\\\\nSOLDIER\\\\nG',\n",
              "   np.float64(0.6082634529183258)),\n",
              "  (\", what he did was, he\\\\nstarted up this club called the Ku\\\\nKlux Klan. They'd all dress up in\\\\ntheir robes and their bedsheets and\\\\nact like a bunch of ghosts or \\\\nspooks\\\\nor something. They'd even put\\\\nbedsheets on their horses and ride\\\\naround. And anyway, that's how I \\\\ngot\\\\nmy name. Forrest Gump.\\\\nEXT. GREENBOW 5 5\\\\nMrs. Gump and Forrest walk across the street.\\\\nFORREST (V.O.)\\\\nMomma said that the Forrest part \\\\nwas\\\\nto remind me that sometimes we all\\\\ndo things that, well, just don't\\\\nmake no sense.\\\\nForrest stops suddenly as his brace gets stuck. Forrest's\\\\nbrace is caught in a gutter grate. Mrs. Gump bends down and\\\\ntries to free Forrest. Two old cronies sit in front of a\\\\nbarber shop and watch.\\\\nMRS. GUMP\\\\nJust wait, let me get it.\\\\nMrs. Gump struggles to pull the stuck brace from the grate.\\\\nMRS. GUMP\\\\nLet me get it. Wait, get it this\\\\nway. Hold on.\\\\nForrest pulls his foot out of the grate.\\\\nMRS. GUMP\\\\nAll right.\\\\nMrs. Gump helps Forrest up onto the sidewalk. She looks up\\\\nand \",\n",
              "   np.float64(0.6065915805856825)),\n",
              "  ('That there is Forrest Gump. Coach.\\\\nJust a local idiot.\\\\nForrest runs under the field goal post and through the end\\\\nzone.\\\\nFORREST (V.O.)\\\\nAnd can you believe it? I got to go\\\\nto college, too.\\\\nEXT. UNIVERSITY OF ALABAMA STADIUM - DAY (1962) 38 38\\\\nThe crowd roars with excitement as a football is kicked off.\\\\nThe football players run around on the field. The crowd of\\\\ncheering fans create a huge sign that reads: \"GO.\"\\\\nForrest is in a University of Alabama football uniform. He\\\\nlooks up into the cheering crowd as his teammate fields the\\\\nkickoff. The teammate runs over to Forrest and hands him the\\\\nball.\\\\nFOOTBALL COACH\\\\nOkay! Run!\\\\nThe football coach, the assistants, and Alabama players cheer\\\\nfor Forrest.\\\\nFOOTBALL COACH\\\\nRun, you stupid son-of-a-bitch! \\\\nRun!\\\\nForrest runs across the field. He speeds past the defending\\\\nplayers. Forrest runs past the opposite players. The crowd\\\\ncheers wildly, holding up cards, making a large sign that\\\\nreads: \"Go.\"\\\\nThey turn the cards over, creat',\n",
              "   np.float64(0.6028635968284056)),\n",
              "  ('\\\\nHello, Mr. Gump.\\\\nFORREST\\\\nHello.\\\\nLITTLE BOY\\\\nNow, can I go watch TV now?\\\\nJENNY\\\\nYes, you can. Just keep it low.\\\\nThe little boy runs into other room and picks up TV remote\\\\ncontrol.\\\\nFORREST\\\\nYou\\'re a momma, Jenny.\\\\nJENNY\\\\nI\\'m a momma. His name is Forrest.\", metadata={\\'source\\': \\'data/Forrest_Gump.pdf\\', \\'page\\': 136}), Document(page_content=\\'137 .\\\\nFORREST\\\\nLike me.\\\\nJENNY\\\\nI named him after his Daddy.\\\\nFORREST\\\\nHe got a daddy named Forrest, too?\\\\nJENNY\\\\nYou\\\\\\'re his daddy, Forrest.\\\\nForrest continues to stare at Forrest Jr. Forrest then looks\\\\nfrightened and starts to back away.\\\\nJENNY\\\\nHey, Forrest, look at me. Look at\\\\nme, Forrest. There\\\\\\'s nothing you\\\\nneed to do, okay? You didn\\\\\\'t do\\\\nanything wrong. Okay?\\\\nJenny turns and looks at Forrest Jr. in the other room.\\\\nJENNY\\\\nIsn\\\\\\'t he beautiful?\\\\nFORREST\\\\nHe\\\\\\'s the most beautiful thing I\\\\\\'ve\\\\never seen. But... is, is he smart,\\\\nor is he...\\\\nJENNY\\\\nHe\\\\\\'s very smart. He\\\\\\'s one of the\\\\nsmartest in his class.\\\\nForrest breathes deep. He l',\n",
              "   np.float64(0.5989046961323077))]}"
            ]
          },
          "execution_count": 227,
          "metadata": {},
          "output_type": "execute_result"
        }
      ],
      "source": [
        "retrieval_augmented_qa_pipeline.run_pipeline(\"Who is Forrest Gump'?\")"
      ]
    },
    {
      "cell_type": "markdown",
      "metadata": {},
      "source": [
        "### 🏗️ Activity #1:\n",
        "\n",
        "Enhance your RAG application in some way! \n",
        "\n",
        "Suggestions are: \n",
        "\n",
        "- Allow it to work with PDF files\n",
        "- Implement a new distance metric\n",
        "- Add metadata support to the vector database\n",
        "\n",
        "While these are suggestions, you should feel free to make whatever augmentations you desire! \n",
        "\n",
        "> NOTE: These additions might require you to work within the `aimakerspace` library - that's expected!"
      ]
    },
    {
      "cell_type": "markdown",
      "metadata": {},
      "source": [
        "### Enhancements\n",
        "\n",
        "I've made three changes to the RAG Application.\n",
        "\n",
        "1. Allowed it to work with PDF files.\n",
        "2. Return sources in the response\n",
        "3. Add converation history\n",
        "\n",
        "**Changes I made**\n",
        "\n",
        "- Imported langchain's PyPDFLoader and set the Forrest Gump movie script as the doc that should be spit with our text_splitter\n",
        "- Augmented the prompt to include domain specific instructions along with the instructions to cite a page number if an answer could be provided\n",
        "- Include a space for {conversation_history} in our user prompt template so our model would have context around follow up questions"
      ]
    },
    {
      "cell_type": "code",
      "execution_count": null,
      "metadata": {},
      "outputs": [],
      "source": [
        "!pip install langchain_community"
      ]
    },
    {
      "cell_type": "code",
      "execution_count": 381,
      "metadata": {},
      "outputs": [],
      "source": [
        "### Import langchains PyPDFLoader\n",
        "\n",
        "from langchain_community.document_loaders import PyPDFLoader"
      ]
    },
    {
      "cell_type": "code",
      "execution_count": 382,
      "metadata": {},
      "outputs": [
        {
          "data": {
            "text/plain": [
              "199"
            ]
          },
          "execution_count": 382,
          "metadata": {},
          "output_type": "execute_result"
        }
      ],
      "source": [
        "### Load in the PDF - I use the Forrest Gump movie script\n",
        "### Then split the PDF it into 199 chunks\n",
        "\n",
        "pdf_doc = PyPDFLoader(\"data/Forrest_Gump.pdf\")\n",
        "loaded_pdf_doc = str(pdf_doc.load())\n",
        "doc_chunks = text_splitter.split_texts([loaded_pdf_doc])\n",
        "len(doc_chunks)"
      ]
    },
    {
      "cell_type": "code",
      "execution_count": 383,
      "metadata": {},
      "outputs": [],
      "source": [
        "### Set up our vectordb with our chunks\n",
        "\n",
        "vector_db = VectorDatabase()\n",
        "vector_db = asyncio.run(vector_db.abuild_from_list(doc_chunks))"
      ]
    },
    {
      "cell_type": "code",
      "execution_count": 384,
      "metadata": {},
      "outputs": [
        {
          "data": {
            "text/plain": [
              "[('onor.\\\\nINT. VIETNAM HOSPITAL WARD 81 81\\\\nForrest steps up to Lt. Dan\\'s bed.\\\\nFORREST\\\\nGuess what, Lieutenant Dan, they\\\\nwant to give me a me...\\\\nForrest stops in mid-sentence as he looks down at the bed. A\\\\nheavily bandaged soldier with bloodstains lies there. Forrest\\\\nturns and look at the NURSE.\\\\nFORREST\\\\nMa\\'am, what\\'d they do with \\\\nLieutenant\\\\nDan?\\\\nNURSE\\\\nThey sent him home.\\\\nFORREST (V.O.)\\\\nTwo weeks later, I left Vietnam.\\\\nINT. BARBER SHOP/GREENBOW - DAY 82 82\\\\nANCHORMAN\\\\n(on T.V.)\\\\nThe ceremony was kicked off with a\\\\ncandid speech by the President\\\\nregarding the need for further\\\\nescalation of the war in Vietnam.\", metadata={\\'source\\': \\'data/Forrest_Gump.pdf\\', \\'page\\': 75}), Document(page_content=\"76 .\\\\nPresident Johnson awarded four \\\\nMedals\\\\nof Honor to men from each of the\\\\nArmed Services.\\\\nThe television reveals Forrest as he is awarded the Medal of\\\\nHonor by President Johnson.\\\\nPRESIDENT JOHNSON\\\\nAmerica owes you a debt of \\\\ngratitude,\\\\nson.\\\\nColor footage revealing Presiden',\n",
              "  np.float64(0.539944087089777)),\n",
              " ('Services.\\\\nThe television reveals Forrest as he is awarded the Medal of\\\\nHonor by President Johnson.\\\\nPRESIDENT JOHNSON\\\\nAmerica owes you a debt of \\\\ngratitude,\\\\nson.\\\\nColor footage revealing President Johnson as he places the\\\\naward around Forrest\\'s neck and shakes hands.\\\\nPRESIDENT JOHNSON\\\\nI understand you were wounded. \\\\nWhere\\\\nwere you hit?\\\\nFORREST\\\\nIn the buttocks, sir.\\\\nPRESIDENT JOHNSON\\\\nOh, that must be a sight.\\\\nPresident Johnson leans and whispers into Forrest\\'s ear.\\\\nPRESIDENT JOHNSON\\\\nI\\'d kinda like to see that.\\\\nINT. BARBER SHOP 83 83\\\\nThe television revealing Forrest as he drops his pants, bends\\\\nover and shows the bullet wound on his bare buttocks.\\\\nPresident Johnson looks down and smiles. The three men in\\\\nthe barber shop look up in disbelief. Mrs. Gump looks up in\\\\nshock.\\\\nPRESIDENT JOHNSON\\\\nGoddamn, son.\\\\nEXT. LINCOLN MEMORIAL - DAY 84 84\\\\nForrest walks by the Lincoln Memorial. A fence surrounds the\", metadata={\\'source\\': \\'data/Forrest_Gump.pdf\\', \\'page\\': 76}), Docume',\n",
              "  np.float64(0.53362737218657)),\n",
              " ('s out\\\\ninto the crowd.\\\\nDEAN\\\\nCongratulations, son.\\\\nMrs. Gump, sitting in the audience, cries.\\\\nFORREST (V.O.)\\\\nMomma was proud.\\\\nForrest and Mrs. Gump have their picure taken in front of a\\\\nlarge statue. A military recruiter spots Forrest and steps\\\\nup to him.\", metadata={\\'source\\': \\'data/Forrest_Gump.pdf\\', \\'page\\': 41}), Document(page_content=\\'42 .\\\\nMRS. GUMP\\\\nForrest, I\\\\\\'m so proud of you. Here,\\\\nI\\\\\\'ll hold this for you.\\\\nMrs. Gump takes the diploma from Forrest. The recruiter slaps\\\\nForrest on the shoulder and hands him some military\\\\nliterature.\\\\nMILITARY RECRUITER\\\\nCongratulations, son. Have you \\\\ngiven\\\\nany thought to your future?\\\\nFORREST\\\\nThought?\\\\nForrest looks at a pamphlet with a photo of \"Uncle Sam\" and\\\\nthe caption \"EXCELLENT CAREERS FOR EXCELLENT YOUNG MAN. Apply\\\\nnow at your local U.S. Army Recruiting Center.\"\\\\nFORREST (V.O.)\\\\nHello, I\\\\\\'m Forrest...\\\\nINT. ARMY BUS - DAY (1966) 55 55\\\\nForrest steps onto the army bus. Rain pours outside as the\\\\narmy bus driver yells at For',\n",
              "  np.float64(0.5314633538398197))]"
            ]
          },
          "execution_count": 384,
          "metadata": {},
          "output_type": "execute_result"
        }
      ],
      "source": [
        "### Let's test our retreiver\n",
        "\n",
        "vector_db.search_by_text(\"Did Forrest serve in the military?\", k=3)\n",
        "\n",
        "### We get some relevant chunks that referrence Forrest and the military or military adjacent information"
      ]
    },
    {
      "cell_type": "code",
      "execution_count": 410,
      "metadata": {},
      "outputs": [],
      "source": [
        "### Updated our RAG_PROMPT_TEMPLATE with context specific info, a clear 'job', and instructions to cite a page number with the response\n",
        "### Include {conversation_history} as an input variable\n",
        "\n",
        "RAG_PROMPT_TEMPLATE = \"\"\" \\\n",
        "You have been provided with the Forrest Gump movie script and previous conversation history. Your job is to use the provided context and conversation history to answer the user's query. Users may have questions around particular characters, famous quotes, or explanations of certain scenes.\n",
        "\n",
        "Please provide answers to the user's questions if they pertain to the context or conversation history. If you can provide an answer, make sure to reference the page number that you are referencing to produce your answer. Include this citation at the end of your response in this format: (Page. X).\n",
        "\n",
        "You may not answer the user's query unless there is specific context in the following text or conversation history.\n",
        "\n",
        "If you do not know the answer, or cannot answer, please respond with \"I don't know\".\n",
        "\"\"\"\n",
        "\n",
        "rag_prompt = SystemRolePrompt(RAG_PROMPT_TEMPLATE)\n",
        "\n",
        "USER_PROMPT_TEMPLATE = \"\"\" \\\n",
        "Context:\n",
        "{context}\n",
        "\n",
        "Conversation History:\n",
        "{conversation_history}\n",
        "\n",
        "User Query:\n",
        "{user_query}\n",
        "\"\"\"\n",
        "\n",
        "user_prompt = UserRolePrompt(USER_PROMPT_TEMPLATE)\n",
        "\n",
        "class RetrievalAugmentedQAPipeline:\n",
        "    def __init__(self, llm: ChatOpenAI(), vector_db_retriever: VectorDatabase) -> None:\n",
        "        self.llm = llm\n",
        "        self.vector_db_retriever = vector_db_retriever\n",
        "        self.conversation_history = []\n",
        "\n",
        "    def run_pipeline(self, user_query: str) -> str:\n",
        "        context_list = self.vector_db_retriever.search_by_text(user_query, k=4)\n",
        "\n",
        "        context_prompt = \"\"\n",
        "        for context in context_list:\n",
        "            context_prompt += context[0] + \"\\n\"\n",
        "\n",
        "        conversation_history_prompt = \"\\n\".join(self.conversation_history)\n",
        "\n",
        "        formatted_system_prompt = rag_prompt.create_message()\n",
        "\n",
        "        formatted_user_prompt = user_prompt.create_message(\n",
        "            user_query=user_query, \n",
        "            context=context_prompt,\n",
        "            conversation_history=conversation_history_prompt\n",
        "        )\n",
        "        \n",
        "        self.conversation_history.append(f\"User: {user_query}\")\n",
        "        self.conversation_history.append(f\"Assistant: {response}\")\n",
        "\n",
        "        response = self.llm.run([formatted_system_prompt, formatted_user_prompt])\n",
        "\n",
        "        return {\"response\": response, \"context\": context_list}"
      ]
    },
    {
      "cell_type": "code",
      "execution_count": 401,
      "metadata": {},
      "outputs": [],
      "source": [
        "retrieval_augmented_qa_pipeline = RetrievalAugmentedQAPipeline(\n",
        "    vector_db_retriever=vector_db,\n",
        "    llm=chat_openai\n",
        ")"
      ]
    },
    {
      "cell_type": "code",
      "execution_count": 411,
      "metadata": {},
      "outputs": [
        {
          "name": "stdout",
          "output_type": "stream",
          "text": [
            "\"I don't know.\"\n"
          ]
        }
      ],
      "source": [
        "### Here we invoke the RAG QA pipeline with an ood question\n",
        "### We don't get a page number cited since an answer isn't provided\n",
        "\n",
        "ood_question = retrieval_augmented_qa_pipeline.run_pipeline(\"What is the tallest building in the world?\")\n",
        "\n",
        "pprint(ood_question['response'])"
      ]
    },
    {
      "cell_type": "code",
      "execution_count": 402,
      "metadata": {},
      "outputs": [
        {
          "name": "stdout",
          "output_type": "stream",
          "text": [
            "('Yes, Forrest Gump met his best friend, Bubba, in the military. Their '\n",
            " 'friendship developed during their time together in Vietnam, and Bubba was '\n",
            " 'described as Forrest\\'s \"best good friend.\" Bubba had aspirations to become '\n",
            " 'a shrimp boat captain, but sadly, he died in Vietnam. This friendship is '\n",
            " \"highlighted in Forrest's reflections on their conversations and experiences \"\n",
            " 'together (Page 69).')\n"
          ]
        }
      ],
      "source": [
        "### Here we invoke the RAG QA pipeline with an in-domain question\n",
        "### We get our page number cited since an answer was provided\n",
        "\n",
        "forrest_best_friend = retrieval_augmented_qa_pipeline.run_pipeline(\"Did forrest meet a best friend in the military?\")\n",
        "\n",
        "pprint(forrest_best_friend['response'])"
      ]
    },
    {
      "cell_type": "code",
      "execution_count": 403,
      "metadata": {},
      "outputs": [
        {
          "name": "stdout",
          "output_type": "stream",
          "text": [
            "('Forrest promised Bubba that he would go into the shrimping business with him '\n",
            " 'after the military. Bubba had a detailed plan for how they could run the '\n",
            " 'business together, splitting everything fifty-fifty and living on the boat '\n",
            " 'without paying rent (Page 61).')\n"
          ]
        }
      ],
      "source": [
        "### We ask a follow up question with vague language (e.g. diectic expressions of 'he' and 'him')\n",
        "### Due to the chat history, the model has context with what this question is about\n",
        "\n",
        "forrest_promise = retrieval_augmented_qa_pipeline.run_pipeline(\"And what business did forrest promise he would do with him after the military?\")\n",
        "\n",
        "pprint(forrest_promise['response'])"
      ]
    },
    {
      "cell_type": "code",
      "execution_count": 404,
      "metadata": {},
      "outputs": [
        {
          "name": "stdout",
          "output_type": "stream",
          "text": [
            "('Yes, Forrest lived up to that promise. After the military, he bought a '\n",
            " 'shrimping boat as he had promised Bubba and became a shrimp boat captain in '\n",
            " 'his honor. Forrest was committed to making their dream a reality, and he '\n",
            " 'often reflected on the promise he made to Bubba in Vietnam (Page 95).')\n"
          ]
        }
      ],
      "source": [
        "### Additional follow up\n",
        "### We are able to ask if Forrest lived up to \"THE\" promise that was mentioned earlier\n",
        "\n",
        "live_up_to_promise = retrieval_augmented_qa_pipeline.run_pipeline(\"And did he live up to that promise?\")\n",
        "\n",
        "pprint(live_up_to_promise['response'])"
      ]
    },
    {
      "cell_type": "code",
      "execution_count": 407,
      "metadata": {},
      "outputs": [
        {
          "name": "stdout",
          "output_type": "stream",
          "text": [
            "('Forrest promised Jenny that if he was ever in trouble, he should just run '\n",
            " 'away and not try to be brave. This promise was made during their farewell '\n",
            " 'conversation, where Jenny expressed her concern for his safety. Forrest '\n",
            " 'assured her that he would write to her all the time (Page 52).')\n"
          ]
        }
      ],
      "source": [
        "### This is just to show that there was potentially another 'promise' \n",
        "### that could've been interpreted in the previous question had there not been chat history\n",
        "\n",
        "promise_jenny = retrieval_augmented_qa_pipeline.run_pipeline(\"what promise did Forrest make to Jenny?\")\n",
        "\n",
        "pprint(promise_jenny['response'])"
      ]
    },
    {
      "cell_type": "code",
      "execution_count": 408,
      "metadata": {},
      "outputs": [
        {
          "name": "stdout",
          "output_type": "stream",
          "text": [
            "('Forrest and Jenny said their farewell at a bus stop before Forrest went off '\n",
            " 'to the military. They had a heartfelt conversation where they made promises '\n",
            " 'to each other (Page 52).')\n"
          ]
        }
      ],
      "source": [
        "### Another follow up on this new 'promise' that was the topic of the current query\n",
        "\n",
        "promise_jenny_location = retrieval_augmented_qa_pipeline.run_pipeline(\"Where did they say their farewell?\")\n",
        "\n",
        "pprint(promise_jenny_location['response'])"
      ]
    }
  ],
  "metadata": {
    "colab": {
      "provenance": []
    },
    "kernelspec": {
      "display_name": "buildyourownlangchain",
      "language": "python",
      "name": "python3"
    },
    "language_info": {
      "codemirror_mode": {
        "name": "ipython",
        "version": 3
      },
      "file_extension": ".py",
      "mimetype": "text/x-python",
      "name": "python",
      "nbconvert_exporter": "python",
      "pygments_lexer": "ipython3",
      "version": "3.11.9"
    },
    "orig_nbformat": 4,
    "widgets": {
      "application/vnd.jupyter.widget-state+json": {
        "1ce393d9afcf427d9d352259c5d32678": {
          "model_module": "@jupyter-widgets/controls",
          "model_module_version": "1.5.0",
          "model_name": "FloatProgressModel",
          "state": {
            "_dom_classes": [],
            "_model_module": "@jupyter-widgets/controls",
            "_model_module_version": "1.5.0",
            "_model_name": "FloatProgressModel",
            "_view_count": null,
            "_view_module": "@jupyter-widgets/controls",
            "_view_module_version": "1.5.0",
            "_view_name": "ProgressView",
            "bar_style": "",
            "description": "",
            "description_tooltip": null,
            "layout": "IPY_MODEL_4e6efd99f7d346e485b002fb0fa85cc7",
            "max": 1,
            "min": 0,
            "orientation": "horizontal",
            "style": "IPY_MODEL_3dfb67c39958461da6071e4c19c3fa41",
            "value": 1
          }
        },
        "3a4ba348cb004f8ab7b2b1395539c81b": {
          "model_module": "@jupyter-widgets/controls",
          "model_module_version": "1.5.0",
          "model_name": "LabelModel",
          "state": {
            "_dom_classes": [],
            "_model_module": "@jupyter-widgets/controls",
            "_model_module_version": "1.5.0",
            "_model_name": "LabelModel",
            "_view_count": null,
            "_view_module": "@jupyter-widgets/controls",
            "_view_module_version": "1.5.0",
            "_view_name": "LabelView",
            "description": "",
            "description_tooltip": null,
            "layout": "IPY_MODEL_d2ea5009dd16442cb5d8a0ac468e50a8",
            "placeholder": "​",
            "style": "IPY_MODEL_5f00135fe1044051a50ee5e841cbb8e3",
            "value": "0.018 MB of 0.018 MB uploaded\r"
          }
        },
        "3dfb67c39958461da6071e4c19c3fa41": {
          "model_module": "@jupyter-widgets/controls",
          "model_module_version": "1.5.0",
          "model_name": "ProgressStyleModel",
          "state": {
            "_model_module": "@jupyter-widgets/controls",
            "_model_module_version": "1.5.0",
            "_model_name": "ProgressStyleModel",
            "_view_count": null,
            "_view_module": "@jupyter-widgets/base",
            "_view_module_version": "1.2.0",
            "_view_name": "StyleView",
            "bar_color": null,
            "description_width": ""
          }
        },
        "4e6efd99f7d346e485b002fb0fa85cc7": {
          "model_module": "@jupyter-widgets/base",
          "model_module_version": "1.2.0",
          "model_name": "LayoutModel",
          "state": {
            "_model_module": "@jupyter-widgets/base",
            "_model_module_version": "1.2.0",
            "_model_name": "LayoutModel",
            "_view_count": null,
            "_view_module": "@jupyter-widgets/base",
            "_view_module_version": "1.2.0",
            "_view_name": "LayoutView",
            "align_content": null,
            "align_items": null,
            "align_self": null,
            "border": null,
            "bottom": null,
            "display": null,
            "flex": null,
            "flex_flow": null,
            "grid_area": null,
            "grid_auto_columns": null,
            "grid_auto_flow": null,
            "grid_auto_rows": null,
            "grid_column": null,
            "grid_gap": null,
            "grid_row": null,
            "grid_template_areas": null,
            "grid_template_columns": null,
            "grid_template_rows": null,
            "height": null,
            "justify_content": null,
            "justify_items": null,
            "left": null,
            "margin": null,
            "max_height": null,
            "max_width": null,
            "min_height": null,
            "min_width": null,
            "object_fit": null,
            "object_position": null,
            "order": null,
            "overflow": null,
            "overflow_x": null,
            "overflow_y": null,
            "padding": null,
            "right": null,
            "top": null,
            "visibility": null,
            "width": null
          }
        },
        "56a8e24025594e5e9ff3b8581c344691": {
          "model_module": "@jupyter-widgets/base",
          "model_module_version": "1.2.0",
          "model_name": "LayoutModel",
          "state": {
            "_model_module": "@jupyter-widgets/base",
            "_model_module_version": "1.2.0",
            "_model_name": "LayoutModel",
            "_view_count": null,
            "_view_module": "@jupyter-widgets/base",
            "_view_module_version": "1.2.0",
            "_view_name": "LayoutView",
            "align_content": null,
            "align_items": null,
            "align_self": null,
            "border": null,
            "bottom": null,
            "display": null,
            "flex": null,
            "flex_flow": null,
            "grid_area": null,
            "grid_auto_columns": null,
            "grid_auto_flow": null,
            "grid_auto_rows": null,
            "grid_column": null,
            "grid_gap": null,
            "grid_row": null,
            "grid_template_areas": null,
            "grid_template_columns": null,
            "grid_template_rows": null,
            "height": null,
            "justify_content": null,
            "justify_items": null,
            "left": null,
            "margin": null,
            "max_height": null,
            "max_width": null,
            "min_height": null,
            "min_width": null,
            "object_fit": null,
            "object_position": null,
            "order": null,
            "overflow": null,
            "overflow_x": null,
            "overflow_y": null,
            "padding": null,
            "right": null,
            "top": null,
            "visibility": null,
            "width": null
          }
        },
        "5f00135fe1044051a50ee5e841cbb8e3": {
          "model_module": "@jupyter-widgets/controls",
          "model_module_version": "1.5.0",
          "model_name": "DescriptionStyleModel",
          "state": {
            "_model_module": "@jupyter-widgets/controls",
            "_model_module_version": "1.5.0",
            "_model_name": "DescriptionStyleModel",
            "_view_count": null,
            "_view_module": "@jupyter-widgets/base",
            "_view_module_version": "1.2.0",
            "_view_name": "StyleView",
            "description_width": ""
          }
        },
        "bb904e05ece143c79ecc4f20de482f45": {
          "model_module": "@jupyter-widgets/controls",
          "model_module_version": "1.5.0",
          "model_name": "VBoxModel",
          "state": {
            "_dom_classes": [],
            "_model_module": "@jupyter-widgets/controls",
            "_model_module_version": "1.5.0",
            "_model_name": "VBoxModel",
            "_view_count": null,
            "_view_module": "@jupyter-widgets/controls",
            "_view_module_version": "1.5.0",
            "_view_name": "VBoxView",
            "box_style": "",
            "children": [
              "IPY_MODEL_3a4ba348cb004f8ab7b2b1395539c81b",
              "IPY_MODEL_1ce393d9afcf427d9d352259c5d32678"
            ],
            "layout": "IPY_MODEL_56a8e24025594e5e9ff3b8581c344691"
          }
        },
        "d2ea5009dd16442cb5d8a0ac468e50a8": {
          "model_module": "@jupyter-widgets/base",
          "model_module_version": "1.2.0",
          "model_name": "LayoutModel",
          "state": {
            "_model_module": "@jupyter-widgets/base",
            "_model_module_version": "1.2.0",
            "_model_name": "LayoutModel",
            "_view_count": null,
            "_view_module": "@jupyter-widgets/base",
            "_view_module_version": "1.2.0",
            "_view_name": "LayoutView",
            "align_content": null,
            "align_items": null,
            "align_self": null,
            "border": null,
            "bottom": null,
            "display": null,
            "flex": null,
            "flex_flow": null,
            "grid_area": null,
            "grid_auto_columns": null,
            "grid_auto_flow": null,
            "grid_auto_rows": null,
            "grid_column": null,
            "grid_gap": null,
            "grid_row": null,
            "grid_template_areas": null,
            "grid_template_columns": null,
            "grid_template_rows": null,
            "height": null,
            "justify_content": null,
            "justify_items": null,
            "left": null,
            "margin": null,
            "max_height": null,
            "max_width": null,
            "min_height": null,
            "min_width": null,
            "object_fit": null,
            "object_position": null,
            "order": null,
            "overflow": null,
            "overflow_x": null,
            "overflow_y": null,
            "padding": null,
            "right": null,
            "top": null,
            "visibility": null,
            "width": null
          }
        }
      }
    }
  },
  "nbformat": 4,
  "nbformat_minor": 0
}
